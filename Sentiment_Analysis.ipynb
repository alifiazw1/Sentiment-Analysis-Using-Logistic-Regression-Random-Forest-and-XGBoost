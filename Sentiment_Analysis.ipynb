{
  "nbformat": 4,
  "nbformat_minor": 0,
  "metadata": {
    "colab": {
      "provenance": []
    },
    "kernelspec": {
      "name": "python3",
      "display_name": "Python 3"
    },
    "language_info": {
      "name": "python"
    }
  },
  "cells": [
    {
      "cell_type": "markdown",
      "source": [
        "# **Import Dataset**"
      ],
      "metadata": {
        "id": "ssVq96Lv0BG6"
      }
    },
    {
      "cell_type": "code",
      "execution_count": 1,
      "metadata": {
        "id": "DiysIyWuxGZB"
      },
      "outputs": [],
      "source": [
        "import pandas as pd\n",
        "import matplotlib.pyplot as plt\n",
        "import seaborn as sns\n",
        "import nltk\n",
        "import re\n",
        "from nltk.corpus import stopwords\n",
        "from nltk.tokenize import word_tokenize\n",
        "from sklearn.feature_extraction.text import TfidfVectorizer"
      ]
    },
    {
      "cell_type": "code",
      "source": [
        "from google.colab import drive\n",
        "drive.mount('/content/drive')\n",
        "\n",
        "file_path = \"/content/drive/MyDrive/Project Portofolio/Sentiment Analysis/sentimentdataset.csv\"\n",
        "df = pd.read_csv(file_path)"
      ],
      "metadata": {
        "colab": {
          "base_uri": "https://localhost:8080/"
        },
        "id": "zc_AseSIzLg-",
        "outputId": "b857f71d-7007-49a6-c956-bc76a9ed0ece"
      },
      "execution_count": 2,
      "outputs": [
        {
          "output_type": "stream",
          "name": "stdout",
          "text": [
            "Drive already mounted at /content/drive; to attempt to forcibly remount, call drive.mount(\"/content/drive\", force_remount=True).\n"
          ]
        }
      ]
    },
    {
      "cell_type": "code",
      "source": [
        "df"
      ],
      "metadata": {
        "colab": {
          "base_uri": "https://localhost:8080/",
          "height": 999
        },
        "id": "ogdr5Bt0zwo0",
        "outputId": "8ba44adf-1b55-4b59-ff14-ea3e60fc6611"
      },
      "execution_count": 3,
      "outputs": [
        {
          "output_type": "execute_result",
          "data": {
            "text/plain": [
              "     Unnamed: 0.1  Unnamed: 0  \\\n",
              "0               0           0   \n",
              "1               1           1   \n",
              "2               2           2   \n",
              "3               3           3   \n",
              "4               4           4   \n",
              "..            ...         ...   \n",
              "727           728         732   \n",
              "728           729         733   \n",
              "729           730         734   \n",
              "730           731         735   \n",
              "731           732         736   \n",
              "\n",
              "                                                  Text    Sentiment  \\\n",
              "0     Enjoying a beautiful day at the park!        ...   Positive     \n",
              "1     Traffic was terrible this morning.           ...   Negative     \n",
              "2     Just finished an amazing workout! 💪          ...   Positive     \n",
              "3     Excited about the upcoming weekend getaway!  ...   Positive     \n",
              "4     Trying out a new recipe for dinner tonight.  ...   Neutral      \n",
              "..                                                 ...          ...   \n",
              "727  Collaborating on a science project that receiv...       Happy    \n",
              "728  Attending a surprise birthday party organized ...       Happy    \n",
              "729  Successfully fundraising for a school charity ...       Happy    \n",
              "730  Participating in a multicultural festival, cel...       Happy    \n",
              "731  Organizing a virtual talent show during challe...       Happy    \n",
              "\n",
              "               Timestamp                                   User     Platform  \\\n",
              "0    2023-01-15 12:30:00                          User123          Twitter     \n",
              "1    2023-01-15 08:45:00                          CommuterX        Twitter     \n",
              "2    2023-01-15 15:45:00                          FitnessFan      Instagram    \n",
              "3    2023-01-15 18:20:00                          AdventureX       Facebook    \n",
              "4    2023-01-15 19:55:00                          ChefCook        Instagram    \n",
              "..                   ...                                    ...          ...   \n",
              "727  2017-08-18 18:20:00       ScienceProjectSuccessHighSchool     Facebook    \n",
              "728  2018-06-22 14:15:00            BirthdayPartyJoyHighSchool    Instagram    \n",
              "729  2019-04-05 17:30:00   CharityFundraisingTriumphHighSchool      Twitter    \n",
              "730  2020-02-29 20:45:00    MulticulturalFestivalJoyHighSchool     Facebook    \n",
              "731  2020-11-15 15:15:00    VirtualTalentShowSuccessHighSchool    Instagram    \n",
              "\n",
              "                                          Hashtags  Retweets  Likes  \\\n",
              "0        #Nature #Park                                  15.0   30.0   \n",
              "1        #Traffic #Morning                               5.0   10.0   \n",
              "2        #Fitness #Workout                              20.0   40.0   \n",
              "3        #Travel #Adventure                              8.0   15.0   \n",
              "4        #Cooking #Food                                 12.0   25.0   \n",
              "..                                             ...       ...    ...   \n",
              "727         #ScienceFairWinner #HighSchoolScience       20.0   39.0   \n",
              "728    #SurpriseCelebration #HighSchoolFriendship       25.0   48.0   \n",
              "729      #CommunityGiving #HighSchoolPhilanthropy       22.0   42.0   \n",
              "730         #CulturalCelebration #HighSchoolUnity       21.0   43.0   \n",
              "731   #VirtualEntertainment #HighSchoolPositivity       24.0   47.0   \n",
              "\n",
              "          Country  Year  Month  Day  Hour  \n",
              "0       USA        2023      1   15    12  \n",
              "1       Canada     2023      1   15     8  \n",
              "2     USA          2023      1   15    15  \n",
              "3       UK         2023      1   15    18  \n",
              "4      Australia   2023      1   15    19  \n",
              "..            ...   ...    ...  ...   ...  \n",
              "727            UK  2017      8   18    18  \n",
              "728           USA  2018      6   22    14  \n",
              "729        Canada  2019      4    5    17  \n",
              "730            UK  2020      2   29    20  \n",
              "731           USA  2020     11   15    15  \n",
              "\n",
              "[732 rows x 15 columns]"
            ],
            "text/html": [
              "\n",
              "  <div id=\"df-50638b6a-00ed-4715-ae91-1592030df1d7\" class=\"colab-df-container\">\n",
              "    <div>\n",
              "<style scoped>\n",
              "    .dataframe tbody tr th:only-of-type {\n",
              "        vertical-align: middle;\n",
              "    }\n",
              "\n",
              "    .dataframe tbody tr th {\n",
              "        vertical-align: top;\n",
              "    }\n",
              "\n",
              "    .dataframe thead th {\n",
              "        text-align: right;\n",
              "    }\n",
              "</style>\n",
              "<table border=\"1\" class=\"dataframe\">\n",
              "  <thead>\n",
              "    <tr style=\"text-align: right;\">\n",
              "      <th></th>\n",
              "      <th>Unnamed: 0.1</th>\n",
              "      <th>Unnamed: 0</th>\n",
              "      <th>Text</th>\n",
              "      <th>Sentiment</th>\n",
              "      <th>Timestamp</th>\n",
              "      <th>User</th>\n",
              "      <th>Platform</th>\n",
              "      <th>Hashtags</th>\n",
              "      <th>Retweets</th>\n",
              "      <th>Likes</th>\n",
              "      <th>Country</th>\n",
              "      <th>Year</th>\n",
              "      <th>Month</th>\n",
              "      <th>Day</th>\n",
              "      <th>Hour</th>\n",
              "    </tr>\n",
              "  </thead>\n",
              "  <tbody>\n",
              "    <tr>\n",
              "      <th>0</th>\n",
              "      <td>0</td>\n",
              "      <td>0</td>\n",
              "      <td>Enjoying a beautiful day at the park!        ...</td>\n",
              "      <td>Positive</td>\n",
              "      <td>2023-01-15 12:30:00</td>\n",
              "      <td>User123</td>\n",
              "      <td>Twitter</td>\n",
              "      <td>#Nature #Park</td>\n",
              "      <td>15.0</td>\n",
              "      <td>30.0</td>\n",
              "      <td>USA</td>\n",
              "      <td>2023</td>\n",
              "      <td>1</td>\n",
              "      <td>15</td>\n",
              "      <td>12</td>\n",
              "    </tr>\n",
              "    <tr>\n",
              "      <th>1</th>\n",
              "      <td>1</td>\n",
              "      <td>1</td>\n",
              "      <td>Traffic was terrible this morning.           ...</td>\n",
              "      <td>Negative</td>\n",
              "      <td>2023-01-15 08:45:00</td>\n",
              "      <td>CommuterX</td>\n",
              "      <td>Twitter</td>\n",
              "      <td>#Traffic #Morning</td>\n",
              "      <td>5.0</td>\n",
              "      <td>10.0</td>\n",
              "      <td>Canada</td>\n",
              "      <td>2023</td>\n",
              "      <td>1</td>\n",
              "      <td>15</td>\n",
              "      <td>8</td>\n",
              "    </tr>\n",
              "    <tr>\n",
              "      <th>2</th>\n",
              "      <td>2</td>\n",
              "      <td>2</td>\n",
              "      <td>Just finished an amazing workout! 💪          ...</td>\n",
              "      <td>Positive</td>\n",
              "      <td>2023-01-15 15:45:00</td>\n",
              "      <td>FitnessFan</td>\n",
              "      <td>Instagram</td>\n",
              "      <td>#Fitness #Workout</td>\n",
              "      <td>20.0</td>\n",
              "      <td>40.0</td>\n",
              "      <td>USA</td>\n",
              "      <td>2023</td>\n",
              "      <td>1</td>\n",
              "      <td>15</td>\n",
              "      <td>15</td>\n",
              "    </tr>\n",
              "    <tr>\n",
              "      <th>3</th>\n",
              "      <td>3</td>\n",
              "      <td>3</td>\n",
              "      <td>Excited about the upcoming weekend getaway!  ...</td>\n",
              "      <td>Positive</td>\n",
              "      <td>2023-01-15 18:20:00</td>\n",
              "      <td>AdventureX</td>\n",
              "      <td>Facebook</td>\n",
              "      <td>#Travel #Adventure</td>\n",
              "      <td>8.0</td>\n",
              "      <td>15.0</td>\n",
              "      <td>UK</td>\n",
              "      <td>2023</td>\n",
              "      <td>1</td>\n",
              "      <td>15</td>\n",
              "      <td>18</td>\n",
              "    </tr>\n",
              "    <tr>\n",
              "      <th>4</th>\n",
              "      <td>4</td>\n",
              "      <td>4</td>\n",
              "      <td>Trying out a new recipe for dinner tonight.  ...</td>\n",
              "      <td>Neutral</td>\n",
              "      <td>2023-01-15 19:55:00</td>\n",
              "      <td>ChefCook</td>\n",
              "      <td>Instagram</td>\n",
              "      <td>#Cooking #Food</td>\n",
              "      <td>12.0</td>\n",
              "      <td>25.0</td>\n",
              "      <td>Australia</td>\n",
              "      <td>2023</td>\n",
              "      <td>1</td>\n",
              "      <td>15</td>\n",
              "      <td>19</td>\n",
              "    </tr>\n",
              "    <tr>\n",
              "      <th>...</th>\n",
              "      <td>...</td>\n",
              "      <td>...</td>\n",
              "      <td>...</td>\n",
              "      <td>...</td>\n",
              "      <td>...</td>\n",
              "      <td>...</td>\n",
              "      <td>...</td>\n",
              "      <td>...</td>\n",
              "      <td>...</td>\n",
              "      <td>...</td>\n",
              "      <td>...</td>\n",
              "      <td>...</td>\n",
              "      <td>...</td>\n",
              "      <td>...</td>\n",
              "      <td>...</td>\n",
              "    </tr>\n",
              "    <tr>\n",
              "      <th>727</th>\n",
              "      <td>728</td>\n",
              "      <td>732</td>\n",
              "      <td>Collaborating on a science project that receiv...</td>\n",
              "      <td>Happy</td>\n",
              "      <td>2017-08-18 18:20:00</td>\n",
              "      <td>ScienceProjectSuccessHighSchool</td>\n",
              "      <td>Facebook</td>\n",
              "      <td>#ScienceFairWinner #HighSchoolScience</td>\n",
              "      <td>20.0</td>\n",
              "      <td>39.0</td>\n",
              "      <td>UK</td>\n",
              "      <td>2017</td>\n",
              "      <td>8</td>\n",
              "      <td>18</td>\n",
              "      <td>18</td>\n",
              "    </tr>\n",
              "    <tr>\n",
              "      <th>728</th>\n",
              "      <td>729</td>\n",
              "      <td>733</td>\n",
              "      <td>Attending a surprise birthday party organized ...</td>\n",
              "      <td>Happy</td>\n",
              "      <td>2018-06-22 14:15:00</td>\n",
              "      <td>BirthdayPartyJoyHighSchool</td>\n",
              "      <td>Instagram</td>\n",
              "      <td>#SurpriseCelebration #HighSchoolFriendship</td>\n",
              "      <td>25.0</td>\n",
              "      <td>48.0</td>\n",
              "      <td>USA</td>\n",
              "      <td>2018</td>\n",
              "      <td>6</td>\n",
              "      <td>22</td>\n",
              "      <td>14</td>\n",
              "    </tr>\n",
              "    <tr>\n",
              "      <th>729</th>\n",
              "      <td>730</td>\n",
              "      <td>734</td>\n",
              "      <td>Successfully fundraising for a school charity ...</td>\n",
              "      <td>Happy</td>\n",
              "      <td>2019-04-05 17:30:00</td>\n",
              "      <td>CharityFundraisingTriumphHighSchool</td>\n",
              "      <td>Twitter</td>\n",
              "      <td>#CommunityGiving #HighSchoolPhilanthropy</td>\n",
              "      <td>22.0</td>\n",
              "      <td>42.0</td>\n",
              "      <td>Canada</td>\n",
              "      <td>2019</td>\n",
              "      <td>4</td>\n",
              "      <td>5</td>\n",
              "      <td>17</td>\n",
              "    </tr>\n",
              "    <tr>\n",
              "      <th>730</th>\n",
              "      <td>731</td>\n",
              "      <td>735</td>\n",
              "      <td>Participating in a multicultural festival, cel...</td>\n",
              "      <td>Happy</td>\n",
              "      <td>2020-02-29 20:45:00</td>\n",
              "      <td>MulticulturalFestivalJoyHighSchool</td>\n",
              "      <td>Facebook</td>\n",
              "      <td>#CulturalCelebration #HighSchoolUnity</td>\n",
              "      <td>21.0</td>\n",
              "      <td>43.0</td>\n",
              "      <td>UK</td>\n",
              "      <td>2020</td>\n",
              "      <td>2</td>\n",
              "      <td>29</td>\n",
              "      <td>20</td>\n",
              "    </tr>\n",
              "    <tr>\n",
              "      <th>731</th>\n",
              "      <td>732</td>\n",
              "      <td>736</td>\n",
              "      <td>Organizing a virtual talent show during challe...</td>\n",
              "      <td>Happy</td>\n",
              "      <td>2020-11-15 15:15:00</td>\n",
              "      <td>VirtualTalentShowSuccessHighSchool</td>\n",
              "      <td>Instagram</td>\n",
              "      <td>#VirtualEntertainment #HighSchoolPositivity</td>\n",
              "      <td>24.0</td>\n",
              "      <td>47.0</td>\n",
              "      <td>USA</td>\n",
              "      <td>2020</td>\n",
              "      <td>11</td>\n",
              "      <td>15</td>\n",
              "      <td>15</td>\n",
              "    </tr>\n",
              "  </tbody>\n",
              "</table>\n",
              "<p>732 rows × 15 columns</p>\n",
              "</div>\n",
              "    <div class=\"colab-df-buttons\">\n",
              "\n",
              "  <div class=\"colab-df-container\">\n",
              "    <button class=\"colab-df-convert\" onclick=\"convertToInteractive('df-50638b6a-00ed-4715-ae91-1592030df1d7')\"\n",
              "            title=\"Convert this dataframe to an interactive table.\"\n",
              "            style=\"display:none;\">\n",
              "\n",
              "  <svg xmlns=\"http://www.w3.org/2000/svg\" height=\"24px\" viewBox=\"0 -960 960 960\">\n",
              "    <path d=\"M120-120v-720h720v720H120Zm60-500h600v-160H180v160Zm220 220h160v-160H400v160Zm0 220h160v-160H400v160ZM180-400h160v-160H180v160Zm440 0h160v-160H620v160ZM180-180h160v-160H180v160Zm440 0h160v-160H620v160Z\"/>\n",
              "  </svg>\n",
              "    </button>\n",
              "\n",
              "  <style>\n",
              "    .colab-df-container {\n",
              "      display:flex;\n",
              "      gap: 12px;\n",
              "    }\n",
              "\n",
              "    .colab-df-convert {\n",
              "      background-color: #E8F0FE;\n",
              "      border: none;\n",
              "      border-radius: 50%;\n",
              "      cursor: pointer;\n",
              "      display: none;\n",
              "      fill: #1967D2;\n",
              "      height: 32px;\n",
              "      padding: 0 0 0 0;\n",
              "      width: 32px;\n",
              "    }\n",
              "\n",
              "    .colab-df-convert:hover {\n",
              "      background-color: #E2EBFA;\n",
              "      box-shadow: 0px 1px 2px rgba(60, 64, 67, 0.3), 0px 1px 3px 1px rgba(60, 64, 67, 0.15);\n",
              "      fill: #174EA6;\n",
              "    }\n",
              "\n",
              "    .colab-df-buttons div {\n",
              "      margin-bottom: 4px;\n",
              "    }\n",
              "\n",
              "    [theme=dark] .colab-df-convert {\n",
              "      background-color: #3B4455;\n",
              "      fill: #D2E3FC;\n",
              "    }\n",
              "\n",
              "    [theme=dark] .colab-df-convert:hover {\n",
              "      background-color: #434B5C;\n",
              "      box-shadow: 0px 1px 3px 1px rgba(0, 0, 0, 0.15);\n",
              "      filter: drop-shadow(0px 1px 2px rgba(0, 0, 0, 0.3));\n",
              "      fill: #FFFFFF;\n",
              "    }\n",
              "  </style>\n",
              "\n",
              "    <script>\n",
              "      const buttonEl =\n",
              "        document.querySelector('#df-50638b6a-00ed-4715-ae91-1592030df1d7 button.colab-df-convert');\n",
              "      buttonEl.style.display =\n",
              "        google.colab.kernel.accessAllowed ? 'block' : 'none';\n",
              "\n",
              "      async function convertToInteractive(key) {\n",
              "        const element = document.querySelector('#df-50638b6a-00ed-4715-ae91-1592030df1d7');\n",
              "        const dataTable =\n",
              "          await google.colab.kernel.invokeFunction('convertToInteractive',\n",
              "                                                    [key], {});\n",
              "        if (!dataTable) return;\n",
              "\n",
              "        const docLinkHtml = 'Like what you see? Visit the ' +\n",
              "          '<a target=\"_blank\" href=https://colab.research.google.com/notebooks/data_table.ipynb>data table notebook</a>'\n",
              "          + ' to learn more about interactive tables.';\n",
              "        element.innerHTML = '';\n",
              "        dataTable['output_type'] = 'display_data';\n",
              "        await google.colab.output.renderOutput(dataTable, element);\n",
              "        const docLink = document.createElement('div');\n",
              "        docLink.innerHTML = docLinkHtml;\n",
              "        element.appendChild(docLink);\n",
              "      }\n",
              "    </script>\n",
              "  </div>\n",
              "\n",
              "\n",
              "<div id=\"df-50100720-576f-493f-80e8-db745dd23227\">\n",
              "  <button class=\"colab-df-quickchart\" onclick=\"quickchart('df-50100720-576f-493f-80e8-db745dd23227')\"\n",
              "            title=\"Suggest charts\"\n",
              "            style=\"display:none;\">\n",
              "\n",
              "<svg xmlns=\"http://www.w3.org/2000/svg\" height=\"24px\"viewBox=\"0 0 24 24\"\n",
              "     width=\"24px\">\n",
              "    <g>\n",
              "        <path d=\"M19 3H5c-1.1 0-2 .9-2 2v14c0 1.1.9 2 2 2h14c1.1 0 2-.9 2-2V5c0-1.1-.9-2-2-2zM9 17H7v-7h2v7zm4 0h-2V7h2v10zm4 0h-2v-4h2v4z\"/>\n",
              "    </g>\n",
              "</svg>\n",
              "  </button>\n",
              "\n",
              "<style>\n",
              "  .colab-df-quickchart {\n",
              "      --bg-color: #E8F0FE;\n",
              "      --fill-color: #1967D2;\n",
              "      --hover-bg-color: #E2EBFA;\n",
              "      --hover-fill-color: #174EA6;\n",
              "      --disabled-fill-color: #AAA;\n",
              "      --disabled-bg-color: #DDD;\n",
              "  }\n",
              "\n",
              "  [theme=dark] .colab-df-quickchart {\n",
              "      --bg-color: #3B4455;\n",
              "      --fill-color: #D2E3FC;\n",
              "      --hover-bg-color: #434B5C;\n",
              "      --hover-fill-color: #FFFFFF;\n",
              "      --disabled-bg-color: #3B4455;\n",
              "      --disabled-fill-color: #666;\n",
              "  }\n",
              "\n",
              "  .colab-df-quickchart {\n",
              "    background-color: var(--bg-color);\n",
              "    border: none;\n",
              "    border-radius: 50%;\n",
              "    cursor: pointer;\n",
              "    display: none;\n",
              "    fill: var(--fill-color);\n",
              "    height: 32px;\n",
              "    padding: 0;\n",
              "    width: 32px;\n",
              "  }\n",
              "\n",
              "  .colab-df-quickchart:hover {\n",
              "    background-color: var(--hover-bg-color);\n",
              "    box-shadow: 0 1px 2px rgba(60, 64, 67, 0.3), 0 1px 3px 1px rgba(60, 64, 67, 0.15);\n",
              "    fill: var(--button-hover-fill-color);\n",
              "  }\n",
              "\n",
              "  .colab-df-quickchart-complete:disabled,\n",
              "  .colab-df-quickchart-complete:disabled:hover {\n",
              "    background-color: var(--disabled-bg-color);\n",
              "    fill: var(--disabled-fill-color);\n",
              "    box-shadow: none;\n",
              "  }\n",
              "\n",
              "  .colab-df-spinner {\n",
              "    border: 2px solid var(--fill-color);\n",
              "    border-color: transparent;\n",
              "    border-bottom-color: var(--fill-color);\n",
              "    animation:\n",
              "      spin 1s steps(1) infinite;\n",
              "  }\n",
              "\n",
              "  @keyframes spin {\n",
              "    0% {\n",
              "      border-color: transparent;\n",
              "      border-bottom-color: var(--fill-color);\n",
              "      border-left-color: var(--fill-color);\n",
              "    }\n",
              "    20% {\n",
              "      border-color: transparent;\n",
              "      border-left-color: var(--fill-color);\n",
              "      border-top-color: var(--fill-color);\n",
              "    }\n",
              "    30% {\n",
              "      border-color: transparent;\n",
              "      border-left-color: var(--fill-color);\n",
              "      border-top-color: var(--fill-color);\n",
              "      border-right-color: var(--fill-color);\n",
              "    }\n",
              "    40% {\n",
              "      border-color: transparent;\n",
              "      border-right-color: var(--fill-color);\n",
              "      border-top-color: var(--fill-color);\n",
              "    }\n",
              "    60% {\n",
              "      border-color: transparent;\n",
              "      border-right-color: var(--fill-color);\n",
              "    }\n",
              "    80% {\n",
              "      border-color: transparent;\n",
              "      border-right-color: var(--fill-color);\n",
              "      border-bottom-color: var(--fill-color);\n",
              "    }\n",
              "    90% {\n",
              "      border-color: transparent;\n",
              "      border-bottom-color: var(--fill-color);\n",
              "    }\n",
              "  }\n",
              "</style>\n",
              "\n",
              "  <script>\n",
              "    async function quickchart(key) {\n",
              "      const quickchartButtonEl =\n",
              "        document.querySelector('#' + key + ' button');\n",
              "      quickchartButtonEl.disabled = true;  // To prevent multiple clicks.\n",
              "      quickchartButtonEl.classList.add('colab-df-spinner');\n",
              "      try {\n",
              "        const charts = await google.colab.kernel.invokeFunction(\n",
              "            'suggestCharts', [key], {});\n",
              "      } catch (error) {\n",
              "        console.error('Error during call to suggestCharts:', error);\n",
              "      }\n",
              "      quickchartButtonEl.classList.remove('colab-df-spinner');\n",
              "      quickchartButtonEl.classList.add('colab-df-quickchart-complete');\n",
              "    }\n",
              "    (() => {\n",
              "      let quickchartButtonEl =\n",
              "        document.querySelector('#df-50100720-576f-493f-80e8-db745dd23227 button');\n",
              "      quickchartButtonEl.style.display =\n",
              "        google.colab.kernel.accessAllowed ? 'block' : 'none';\n",
              "    })();\n",
              "  </script>\n",
              "</div>\n",
              "\n",
              "  <div id=\"id_969a8ce4-b3e0-4c46-8ae5-b70114e7f518\">\n",
              "    <style>\n",
              "      .colab-df-generate {\n",
              "        background-color: #E8F0FE;\n",
              "        border: none;\n",
              "        border-radius: 50%;\n",
              "        cursor: pointer;\n",
              "        display: none;\n",
              "        fill: #1967D2;\n",
              "        height: 32px;\n",
              "        padding: 0 0 0 0;\n",
              "        width: 32px;\n",
              "      }\n",
              "\n",
              "      .colab-df-generate:hover {\n",
              "        background-color: #E2EBFA;\n",
              "        box-shadow: 0px 1px 2px rgba(60, 64, 67, 0.3), 0px 1px 3px 1px rgba(60, 64, 67, 0.15);\n",
              "        fill: #174EA6;\n",
              "      }\n",
              "\n",
              "      [theme=dark] .colab-df-generate {\n",
              "        background-color: #3B4455;\n",
              "        fill: #D2E3FC;\n",
              "      }\n",
              "\n",
              "      [theme=dark] .colab-df-generate:hover {\n",
              "        background-color: #434B5C;\n",
              "        box-shadow: 0px 1px 3px 1px rgba(0, 0, 0, 0.15);\n",
              "        filter: drop-shadow(0px 1px 2px rgba(0, 0, 0, 0.3));\n",
              "        fill: #FFFFFF;\n",
              "      }\n",
              "    </style>\n",
              "    <button class=\"colab-df-generate\" onclick=\"generateWithVariable('df')\"\n",
              "            title=\"Generate code using this dataframe.\"\n",
              "            style=\"display:none;\">\n",
              "\n",
              "  <svg xmlns=\"http://www.w3.org/2000/svg\" height=\"24px\"viewBox=\"0 0 24 24\"\n",
              "       width=\"24px\">\n",
              "    <path d=\"M7,19H8.4L18.45,9,17,7.55,7,17.6ZM5,21V16.75L18.45,3.32a2,2,0,0,1,2.83,0l1.4,1.43a1.91,1.91,0,0,1,.58,1.4,1.91,1.91,0,0,1-.58,1.4L9.25,21ZM18.45,9,17,7.55Zm-12,3A5.31,5.31,0,0,0,4.9,8.1,5.31,5.31,0,0,0,1,6.5,5.31,5.31,0,0,0,4.9,4.9,5.31,5.31,0,0,0,6.5,1,5.31,5.31,0,0,0,8.1,4.9,5.31,5.31,0,0,0,12,6.5,5.46,5.46,0,0,0,6.5,12Z\"/>\n",
              "  </svg>\n",
              "    </button>\n",
              "    <script>\n",
              "      (() => {\n",
              "      const buttonEl =\n",
              "        document.querySelector('#id_969a8ce4-b3e0-4c46-8ae5-b70114e7f518 button.colab-df-generate');\n",
              "      buttonEl.style.display =\n",
              "        google.colab.kernel.accessAllowed ? 'block' : 'none';\n",
              "\n",
              "      buttonEl.onclick = () => {\n",
              "        google.colab.notebook.generateWithVariable('df');\n",
              "      }\n",
              "      })();\n",
              "    </script>\n",
              "  </div>\n",
              "\n",
              "    </div>\n",
              "  </div>\n"
            ],
            "application/vnd.google.colaboratory.intrinsic+json": {
              "type": "dataframe",
              "variable_name": "df",
              "summary": "{\n  \"name\": \"df\",\n  \"rows\": 732,\n  \"fields\": [\n    {\n      \"column\": \"Unnamed: 0.1\",\n      \"properties\": {\n        \"dtype\": \"number\",\n        \"std\": 211,\n        \"min\": 0,\n        \"max\": 732,\n        \"num_unique_values\": 732,\n        \"samples\": [\n          605,\n          34,\n          301\n        ],\n        \"semantic_type\": \"\",\n        \"description\": \"\"\n      }\n    },\n    {\n      \"column\": \"Unnamed: 0\",\n      \"properties\": {\n        \"dtype\": \"number\",\n        \"std\": 212,\n        \"min\": 0,\n        \"max\": 736,\n        \"num_unique_values\": 732,\n        \"samples\": [\n          609,\n          35,\n          305\n        ],\n        \"semantic_type\": \"\",\n        \"description\": \"\"\n      }\n    },\n    {\n      \"column\": \"Text\",\n      \"properties\": {\n        \"dtype\": \"string\",\n        \"num_unique_values\": 707,\n        \"samples\": [\n          \"Walking the Great Wall of China, each step a testament to ancient engineering marvels. \",\n          \" Laughter is the key to joy\\u2014attending a stand-up comedy show. \",\n          \" The fear of the unknown is keeping me up at night.    \"\n        ],\n        \"semantic_type\": \"\",\n        \"description\": \"\"\n      }\n    },\n    {\n      \"column\": \"Sentiment\",\n      \"properties\": {\n        \"dtype\": \"category\",\n        \"num_unique_values\": 279,\n        \"samples\": [\n          \" Elation       \",\n          \" Confidence    \",\n          \" Loss \"\n        ],\n        \"semantic_type\": \"\",\n        \"description\": \"\"\n      }\n    },\n    {\n      \"column\": \"Timestamp\",\n      \"properties\": {\n        \"dtype\": \"object\",\n        \"num_unique_values\": 683,\n        \"samples\": [\n          \"2019-12-12 17:00:00\",\n          \"2018-03-10 09:45:00\",\n          \"2022-01-05 10:30:00\"\n        ],\n        \"semantic_type\": \"\",\n        \"description\": \"\"\n      }\n    },\n    {\n      \"column\": \"User\",\n      \"properties\": {\n        \"dtype\": \"string\",\n        \"num_unique_values\": 685,\n        \"samples\": [\n          \" VenomousHeart \",\n          \" GamingEnthusiast \",\n          \" DreamChaser       \"\n        ],\n        \"semantic_type\": \"\",\n        \"description\": \"\"\n      }\n    },\n    {\n      \"column\": \"Platform\",\n      \"properties\": {\n        \"dtype\": \"category\",\n        \"num_unique_values\": 4,\n        \"samples\": [\n          \" Instagram \",\n          \" Twitter \",\n          \" Twitter  \"\n        ],\n        \"semantic_type\": \"\",\n        \"description\": \"\"\n      }\n    },\n    {\n      \"column\": \"Hashtags\",\n      \"properties\": {\n        \"dtype\": \"string\",\n        \"num_unique_values\": 697,\n        \"samples\": [\n          \" #Fulfillment #PuzzleChallenge                \",\n          \" #Nostalgia #ClassicFilmMoments \",\n          \" #Isolation #EmotionalWinter            \"\n        ],\n        \"semantic_type\": \"\",\n        \"description\": \"\"\n      }\n    },\n    {\n      \"column\": \"Retweets\",\n      \"properties\": {\n        \"dtype\": \"number\",\n        \"std\": 7.061286414470437,\n        \"min\": 5.0,\n        \"max\": 40.0,\n        \"num_unique_values\": 26,\n        \"samples\": [\n          18.0,\n          17.0,\n          15.0\n        ],\n        \"semantic_type\": \"\",\n        \"description\": \"\"\n      }\n    },\n    {\n      \"column\": \"Likes\",\n      \"properties\": {\n        \"dtype\": \"number\",\n        \"std\": 14.089848390888744,\n        \"min\": 10.0,\n        \"max\": 80.0,\n        \"num_unique_values\": 38,\n        \"samples\": [\n          31.0,\n          51.0,\n          25.0\n        ],\n        \"semantic_type\": \"\",\n        \"description\": \"\"\n      }\n    },\n    {\n      \"column\": \"Country\",\n      \"properties\": {\n        \"dtype\": \"category\",\n        \"num_unique_values\": 115,\n        \"samples\": [\n          \" France         \",\n          \" Australia \",\n          \" India         \"\n        ],\n        \"semantic_type\": \"\",\n        \"description\": \"\"\n      }\n    },\n    {\n      \"column\": \"Year\",\n      \"properties\": {\n        \"dtype\": \"number\",\n        \"std\": 2,\n        \"min\": 2010,\n        \"max\": 2023,\n        \"num_unique_values\": 14,\n        \"samples\": [\n          2016,\n          2018,\n          2023\n        ],\n        \"semantic_type\": \"\",\n        \"description\": \"\"\n      }\n    },\n    {\n      \"column\": \"Month\",\n      \"properties\": {\n        \"dtype\": \"number\",\n        \"std\": 3,\n        \"min\": 1,\n        \"max\": 12,\n        \"num_unique_values\": 12,\n        \"samples\": [\n          10,\n          7,\n          1\n        ],\n        \"semantic_type\": \"\",\n        \"description\": \"\"\n      }\n    },\n    {\n      \"column\": \"Day\",\n      \"properties\": {\n        \"dtype\": \"number\",\n        \"std\": 8,\n        \"min\": 1,\n        \"max\": 31,\n        \"num_unique_values\": 31,\n        \"samples\": [\n          7,\n          30,\n          3\n        ],\n        \"semantic_type\": \"\",\n        \"description\": \"\"\n      }\n    },\n    {\n      \"column\": \"Hour\",\n      \"properties\": {\n        \"dtype\": \"number\",\n        \"std\": 4,\n        \"min\": 0,\n        \"max\": 23,\n        \"num_unique_values\": 22,\n        \"samples\": [\n          12,\n          20,\n          13\n        ],\n        \"semantic_type\": \"\",\n        \"description\": \"\"\n      }\n    }\n  ]\n}"
            }
          },
          "metadata": {},
          "execution_count": 3
        }
      ]
    },
    {
      "cell_type": "markdown",
      "source": [
        "# **Exploratory Data Analysis**"
      ],
      "metadata": {
        "id": "5nkg7CET0J2j"
      }
    },
    {
      "cell_type": "code",
      "source": [
        "df.info()"
      ],
      "metadata": {
        "colab": {
          "base_uri": "https://localhost:8080/"
        },
        "id": "N8-IndLRz-W0",
        "outputId": "ad34ed8b-3d46-42d5-aee3-93dc261f8d46"
      },
      "execution_count": 4,
      "outputs": [
        {
          "output_type": "stream",
          "name": "stdout",
          "text": [
            "<class 'pandas.core.frame.DataFrame'>\n",
            "RangeIndex: 732 entries, 0 to 731\n",
            "Data columns (total 15 columns):\n",
            " #   Column        Non-Null Count  Dtype  \n",
            "---  ------        --------------  -----  \n",
            " 0   Unnamed: 0.1  732 non-null    int64  \n",
            " 1   Unnamed: 0    732 non-null    int64  \n",
            " 2   Text          732 non-null    object \n",
            " 3   Sentiment     732 non-null    object \n",
            " 4   Timestamp     732 non-null    object \n",
            " 5   User          732 non-null    object \n",
            " 6   Platform      732 non-null    object \n",
            " 7   Hashtags      732 non-null    object \n",
            " 8   Retweets      732 non-null    float64\n",
            " 9   Likes         732 non-null    float64\n",
            " 10  Country       732 non-null    object \n",
            " 11  Year          732 non-null    int64  \n",
            " 12  Month         732 non-null    int64  \n",
            " 13  Day           732 non-null    int64  \n",
            " 14  Hour          732 non-null    int64  \n",
            "dtypes: float64(2), int64(6), object(7)\n",
            "memory usage: 85.9+ KB\n"
          ]
        }
      ]
    },
    {
      "cell_type": "code",
      "source": [
        "df.isnull().sum()"
      ],
      "metadata": {
        "colab": {
          "base_uri": "https://localhost:8080/",
          "height": 554
        },
        "id": "mEEtCHX40Ro6",
        "outputId": "6c0cdefd-6ba6-47b2-da0e-308b92f2ac71"
      },
      "execution_count": 5,
      "outputs": [
        {
          "output_type": "execute_result",
          "data": {
            "text/plain": [
              "Unnamed: 0.1    0\n",
              "Unnamed: 0      0\n",
              "Text            0\n",
              "Sentiment       0\n",
              "Timestamp       0\n",
              "User            0\n",
              "Platform        0\n",
              "Hashtags        0\n",
              "Retweets        0\n",
              "Likes           0\n",
              "Country         0\n",
              "Year            0\n",
              "Month           0\n",
              "Day             0\n",
              "Hour            0\n",
              "dtype: int64"
            ],
            "text/html": [
              "<div>\n",
              "<style scoped>\n",
              "    .dataframe tbody tr th:only-of-type {\n",
              "        vertical-align: middle;\n",
              "    }\n",
              "\n",
              "    .dataframe tbody tr th {\n",
              "        vertical-align: top;\n",
              "    }\n",
              "\n",
              "    .dataframe thead th {\n",
              "        text-align: right;\n",
              "    }\n",
              "</style>\n",
              "<table border=\"1\" class=\"dataframe\">\n",
              "  <thead>\n",
              "    <tr style=\"text-align: right;\">\n",
              "      <th></th>\n",
              "      <th>0</th>\n",
              "    </tr>\n",
              "  </thead>\n",
              "  <tbody>\n",
              "    <tr>\n",
              "      <th>Unnamed: 0.1</th>\n",
              "      <td>0</td>\n",
              "    </tr>\n",
              "    <tr>\n",
              "      <th>Unnamed: 0</th>\n",
              "      <td>0</td>\n",
              "    </tr>\n",
              "    <tr>\n",
              "      <th>Text</th>\n",
              "      <td>0</td>\n",
              "    </tr>\n",
              "    <tr>\n",
              "      <th>Sentiment</th>\n",
              "      <td>0</td>\n",
              "    </tr>\n",
              "    <tr>\n",
              "      <th>Timestamp</th>\n",
              "      <td>0</td>\n",
              "    </tr>\n",
              "    <tr>\n",
              "      <th>User</th>\n",
              "      <td>0</td>\n",
              "    </tr>\n",
              "    <tr>\n",
              "      <th>Platform</th>\n",
              "      <td>0</td>\n",
              "    </tr>\n",
              "    <tr>\n",
              "      <th>Hashtags</th>\n",
              "      <td>0</td>\n",
              "    </tr>\n",
              "    <tr>\n",
              "      <th>Retweets</th>\n",
              "      <td>0</td>\n",
              "    </tr>\n",
              "    <tr>\n",
              "      <th>Likes</th>\n",
              "      <td>0</td>\n",
              "    </tr>\n",
              "    <tr>\n",
              "      <th>Country</th>\n",
              "      <td>0</td>\n",
              "    </tr>\n",
              "    <tr>\n",
              "      <th>Year</th>\n",
              "      <td>0</td>\n",
              "    </tr>\n",
              "    <tr>\n",
              "      <th>Month</th>\n",
              "      <td>0</td>\n",
              "    </tr>\n",
              "    <tr>\n",
              "      <th>Day</th>\n",
              "      <td>0</td>\n",
              "    </tr>\n",
              "    <tr>\n",
              "      <th>Hour</th>\n",
              "      <td>0</td>\n",
              "    </tr>\n",
              "  </tbody>\n",
              "</table>\n",
              "</div><br><label><b>dtype:</b> int64</label>"
            ]
          },
          "metadata": {},
          "execution_count": 5
        }
      ]
    },
    {
      "cell_type": "code",
      "source": [
        "#mengubah kalimat menjadi huruf kecil semua\n",
        "dt = df[\"Text\"].str.lower()\n",
        "print(dt)"
      ],
      "metadata": {
        "colab": {
          "base_uri": "https://localhost:8080/"
        },
        "id": "0hRApJP10Ui6",
        "outputId": "205db4ba-68d2-40a1-f050-592cb212d223"
      },
      "execution_count": 6,
      "outputs": [
        {
          "output_type": "stream",
          "name": "stdout",
          "text": [
            "0       enjoying a beautiful day at the park!        ...\n",
            "1       traffic was terrible this morning.           ...\n",
            "2       just finished an amazing workout! 💪          ...\n",
            "3       excited about the upcoming weekend getaway!  ...\n",
            "4       trying out a new recipe for dinner tonight.  ...\n",
            "                             ...                        \n",
            "727    collaborating on a science project that receiv...\n",
            "728    attending a surprise birthday party organized ...\n",
            "729    successfully fundraising for a school charity ...\n",
            "730    participating in a multicultural festival, cel...\n",
            "731    organizing a virtual talent show during challe...\n",
            "Name: Text, Length: 732, dtype: object\n"
          ]
        }
      ]
    },
    {
      "cell_type": "code",
      "source": [
        "#menghapus simbol atau tanda baca unik yang tidak perlu\n",
        "def remove_punctuation(text):\n",
        "  return re.sub(r'[^\\w\\s]', '', text)\n",
        "\n",
        "dt = dt.apply(remove_punctuation)\n",
        "print(dt)"
      ],
      "metadata": {
        "colab": {
          "base_uri": "https://localhost:8080/"
        },
        "id": "MULfsQWr3XFm",
        "outputId": "d93992a4-7063-4926-d478-392b41cf3d5e"
      },
      "execution_count": 7,
      "outputs": [
        {
          "output_type": "stream",
          "name": "stdout",
          "text": [
            "0       enjoying a beautiful day at the park         ...\n",
            "1       traffic was terrible this morning            ...\n",
            "2       just finished an amazing workout                \n",
            "3       excited about the upcoming weekend getaway   ...\n",
            "4       trying out a new recipe for dinner tonight   ...\n",
            "                             ...                        \n",
            "727    collaborating on a science project that receiv...\n",
            "728    attending a surprise birthday party organized ...\n",
            "729    successfully fundraising for a school charity ...\n",
            "730    participating in a multicultural festival cele...\n",
            "731    organizing a virtual talent show during challe...\n",
            "Name: Text, Length: 732, dtype: object\n"
          ]
        }
      ]
    },
    {
      "cell_type": "code",
      "source": [
        "dt.str.strip()\n",
        "print(dt)"
      ],
      "metadata": {
        "colab": {
          "base_uri": "https://localhost:8080/"
        },
        "id": "jSVPL50037MX",
        "outputId": "6a713378-5081-4be0-c920-443893950595"
      },
      "execution_count": 8,
      "outputs": [
        {
          "output_type": "stream",
          "name": "stdout",
          "text": [
            "0       enjoying a beautiful day at the park         ...\n",
            "1       traffic was terrible this morning            ...\n",
            "2       just finished an amazing workout                \n",
            "3       excited about the upcoming weekend getaway   ...\n",
            "4       trying out a new recipe for dinner tonight   ...\n",
            "                             ...                        \n",
            "727    collaborating on a science project that receiv...\n",
            "728    attending a surprise birthday party organized ...\n",
            "729    successfully fundraising for a school charity ...\n",
            "730    participating in a multicultural festival cele...\n",
            "731    organizing a virtual talent show during challe...\n",
            "Name: Text, Length: 732, dtype: object\n"
          ]
        }
      ]
    },
    {
      "cell_type": "code",
      "source": [
        "#menghapus angka pada text\n",
        "rev_num=''.join([i for i in dt if not i.isdigit()])\n",
        "rev_num"
      ],
      "metadata": {
        "colab": {
          "base_uri": "https://localhost:8080/",
          "height": 244
        },
        "id": "nrNP0b4l4_1h",
        "outputId": "47c267ed-e6dd-4876-fd93-6e835c6ee5e6"
      },
      "execution_count": 9,
      "outputs": [
        {
          "output_type": "execute_result",
          "data": {
            "text/plain": [
              "' enjoying a beautiful day at the park               traffic was terrible this morning                  just finished an amazing workout                 excited about the upcoming weekend getaway         trying out a new recipe for dinner tonight         feeling grateful for the little things in life     rainy days call for cozy blankets and hot cocoa    the new movie release is a mustwatch              political discussions heating up on the timeline   missing summer vibes and beach days                just published a new blog post check it out       feeling a bit under the weather today              exploring the citys hidden gems                   new year new fitness goals                      technology is changing the way we live             reflecting on the past and looking ahead           just adopted a cute furry friend                latenight gaming session with friends             attending a virtual conference on ai               winter blues got me feeling low                    sipping coffee and enjoying a good book            exploring the world of virtual reality             productive day ticking off my todo list           just finished a challenging workout routine        celebrating a milestone at work                 sunday brunch with friends                         learning a new language for personal growth        quiet evening with a good book                     reflecting on the importance of mental health      new painting in progress                         weekend road trip to explore scenic views          enjoying a cup of tea and watching the sunset      coding a new project with enthusiasm               feeling inspired after attending a workshop        winter sports day at the local park                quality time with family this weekend              attending a live music concert tonight             practicing mindfulness with meditation             trying out a new dessert recipe                    excited about the upcoming gaming tournament       planning a garden makeover for spring              celebrating a friends birthday tonight         feeling accomplished after a productive day        a cozy evening with a good movie                  exploring local art galleries this weekend         new book release from my favorite author           attending a virtual reality meetup                 reflecting on the beauty of nature                 cooking a special dinner for loved ones            feeling optimistic about the week ahead            starting a new fitness challenge tomorrow       sunday bike ride through scenic trails            cant believe the injustice happening in our society feeling a sense of fear after watching a thriller movie  heartbroken after hearing the news about a natural disaster  the state of the worlds environment is just disgusting  pure happiness celebrating a loved ones achievement  laughter is the best medicineenjoying a comedy show  sharing love and positive vibes with everyone        an amusing incident brightened up my day                enjoying a quiet evening with a book and some tea       admiring the beauty of nature during a peaceful hike    sending affectionate vibes to all my followers           experiencing awe at the breathtaking sunset             disappointed with the service at a local restaurant     a surprise gift from a friend made my day               finding acceptance in the midst of lifes challenges    overflowing with adoration for my adorable pet        anticipating a thrilling adventure in the coming weeks  a bitter experience turned into a valuable lesson       finding calmness in the midst of a busy day             confusion clouds my mind as i navigate through decisions excitement building up for the upcoming vacation        kindness witnessed today restored my faith in humanity  pride in achieving a personal milestone                a moment of shame for not standing up against injustice  fuming with anger after a heated argument             the fear of the unknown is keeping me up at night     heartfelt sadness after bidding farewell to a dear friend  the state of corruption in our society is utterly disgusting  overflowing happiness welcoming a new family member   laughter is the key to joyattending a standup comedy show  sending love to all my followers on this beautiful day   amused by the antics of my petits pure amusement       enjoying every moment of this trippure enjoyment       admiring the dedication of volunteers at a local charity  sending affectionate vibes to friends and family         awestruck by the beauty of the night sky                disappointed with the lack of progress in a personal project  a surprise visit from an old friend brought tears of joy  embracing acceptance of lifes ups and downs            overflowing adoration for a cute rescue puppy         anticipating the release of a muchawaited movie        bitter experience at the customer service department    finding calmness amidst the chaos of daily life         confusion reigns as i try to make sense of recent events excitement building up for a surprise birthday party    witnessed an act of kindness that made my day           pride in completing a challenging fitness challenge     a moment of shame for not speaking up against injustice reflecting on the beauty of diversity in our world      excitement for a quiet evening with a good book         feeling bitter about the unfairness in the workplace    calmness prevails as i practice mindfulness             confusion surrounds me as i navigate through lifes choices  excitement for a weekend road trip to explore new places  kindness witnessed today restores my faith in humanity   pride in accomplishing personal and professional goals   shame for not being true to my values in a difficult situation revisiting old memories feeling a sense of elation  the victory of our team brought euphoria to the city  embracing the beauty of nature a moment of contentment  meditating by the serene lake finding inner peace    overflowing with gratitude for lifes blessings       hopeful for a brighter tomorrow despite challenges   empowered to make a difference in my community         compassion in action supporting a local charity event  a moment of tenderness connecting with loved ones     arousal of excitement as i await a special announcement enthusiastically diving into a new project             feeling a sense of fulfillment after reaching a milestone reverence for the beauty of a historic landmark        elation after a surprise reunion with old friends     the euphoria of a live music concert under the stars   contentment in the simplicity of a quiet sunday        serenity found in the pages of a favorite book         gratitude for the support received during tough times  hopeful about the possibilities of a new journey       empowerment through learning and personal growth       compassion towards those in need during the holidays   tenderness in the warmth of a cozy winter evening      arousal of excitement for an upcoming adventure        enthusiasm for a creative project in the making        fulfillment in completing a challenging workout routine reverence for the artistry displayed in a museum       elation after achieving a personal goal                elation over discovering a hidden gem in the city    the euphoria of a surprise birthday celebration      contentment in the simplicity of a homecooked meal  serenity found in the melody of a peaceful piano     gratitude for the supportive community around me     hopeful about the prospects of a new business venture empowerment through mentoring and guiding others     compassion shown through acts of kindness in the community tenderness in a heartfelt message to a loved one     arousal of excitement before a muchawaited trip     enthusiasm for a new artistic project in the works   feeling a sense of fulfillment after helping others  reverence for the historical significance of a landmark elation after achieving a fitness milestone          the euphoria of a successful product launch          contentment in the embrace of a loved one            serenity found in the beauty of a sunset by the sea   gratitude for the small joys that each day brings    hopeful about the potential for personal growth       empowerment through learning a new skill             compassion in volunteering for a local charity        tenderness in a quiet moment shared with a pet       arousal of excitement for an upcoming festival        enthusiasm for a diy home improvement project        fulfillment in completing a challenging puzzle       reverence for the wonders of nature on a hiking trail elation after a surprise reunion with a childhood friend suffering from despair after another setback       overwhelmed by grief missing a loved one dearly   loneliness creeps in as the night grows colder     jealousy consumes me as i witness others success  resentment building up over past betrayals         frustration mounts as obstacles block my path      boredom sets in the day feels endlessly dull      anxiety grips my heart worry clouds my thoughts   intimidation by the unknown future ahead           helplessness sinks in as challenges pile up        envy eats away at me as i see others prosperity   regret over missed opportunities haunts my thoughts disgust at the sight of injustice and cruelty      drowning in despair hope slipping through my fingers grief weighs heavy tears a constant companion     loneliness in a crowded room a silent cry for connection jealousy gnaws at my confidence a toxic emotion   resentment festers poisoning relationships        frustration boils over a volcanic eruption of emotions boredom settles like dust life feels mundane      anxiety grips my chest a relentless grip on my thoughts intimidation by the challenges ahead fear takes hold helplessness engulfs me drowning in a sea of problems envy poisons my thoughts coveting others success regret for decisions that led to a painful present disgust at the corruption that stains society      sinking in despair each day darker than the last  grief overwhelms a storm of emotions within       loneliness echoes in empty spaces yearning for connection jealousy poisons my thoughts resentment brewing within resentment festers a wound that refuses to heal   frustration escalates a thunderstorm of emotions  boredom lingers a stagnant pool of indifference   embarking on a journey of discovery fueled by curiosity and a thirst for knowledge  lost in the vast sea of information an indifferent wave in the digital ocean  the complex puzzle of life leaves me in a state of perpetual confusion seeking answers in the chaos  a numbness settles over me a shield against the overwhelming emotions life throws my way  gazing at the sunset a melancholic longing for moments that slip through the fingers of time  revisiting old photographs caught in the embrace of nostalgias bittersweet symphony  torn between conflicting emotions an ambivalence that paints my decisions in shades of uncertainty  embracing the ebb and flow of life finding acceptance in the dance of existence  facing challenges headon a determination that fuels the fire within to achieve the impossible  serenity found in the stillness of nature a tranquil retreat from the chaos of the modern world  curiosity leading me down the rabbit hole of knowledge a perpetual student in lifes classroom  floating through the day with an air of indifference detached from the mundane happenings around  entangled in the web of thoughts confusion reigning as i navigate the labyrinth of ideas  numb to the chaos emotions locked away a stoic facade concealing the inner turmoil  melancholy whispers in the breeze a silent conversation with the echoes of forgotten dreams  stumbling upon an old journal nostalgia flooding in waves carrying me to moments long gone  a tapestry of conflicting feelings weaving through uncertainty caught in the threads of ambivalence  embracing the flaws finding acceptance in imperfection a journey towards selflove  determination burning like a wildfire overcoming obstacles turning dreams into reality  tranquil moments by the ocean serenity washing over a peaceful retreat within the waves embrace  exploring new horizons with the spark of curiosity an adventurer in the vast landscape of knowledge  drifting through the day with a nonchalant demeanor embracing the art of indifference  wrestling with thoughts a perplexed mind lost in the labyrinth of lifes complexities  immersed in a state of emotional numbness a shield against the storm of daily struggles  a melancholic symphony playing in the background the soundtrack of a wistful heart  flipping through the pages of an old yearbook nostalgia painting smiles and tears on my face  torn between opposing emotions an ambivalence that colors my decisions with shades of uncertainty  embracing lifes imperfections finding acceptance in the journey scars and all  a fiery determination burning within fueled by the vision of reaching unparalleled heights  basking in the serenity of a quiet forest where the whispers of nature bring peace to the soul  indifferent to the noise of the world a silent observer in the midst of lifes cacophony  navigating through the labyrinth of thoughts confusion a constant companion in the maze of ideas  an impenetrable numbness shields me from the emotional storms a fortress of stoic resilience  melancholy painting the world in hues of nostalgia a canvas of bittersweet memories  a journey into the past flipping through the pages of an old diary nostalgia taking the lead  ambivalence clouding decisions caught in the crossroads of conflicting emotions  embracing imperfections finding acceptance in the mosaic of lifes beautiful chaos  determination as the driving force propelling me forward on the path to extraordinary achievements  seeking serenity in the melody of raindrops a tranquil escape from the noise of everyday life  curiosity driving the exploration of the unknown a seeker of knowledge in uncharted territories  drifting through the day with an air of nonchalance indifferent to the trivialities of life  lost in the labyrinth of thoughts confusion casting shadows on the quest for clarity  wrapped in the cloak of emotional numbness a shield against the storms of lifes turbulence  melancholy as a companion painting the canvas of life with the brushstrokes of wistful yearning  leafing through the pages of an old photo album nostalgia weaving tales of laughter and tears  ambivalence in the air caught between the crossroads of conflicting emotions and decisions  embracing the beauty in imperfections finding acceptance in the mosaic of lifes unpredictable art  determination ablaze forging a path through challenges sculpting dreams into tangible realities  immerse in the serenity of a moonlit night where the quiet whispers of nature bring peace to the soul  fueled by curiosity venturing into uncharted realms a fearless explorer of the mysteries of the world wrapped in the cloak of emotional numbness a shield against the storms of lifes turbulence  dancing through life with the exuberance of a carefree spirit embracing joy and zest at every turn  basking in the golden glow of contentment a serene river flowing through the landscape of the heart  gazing towards the horizon with hopeful eyes painting a canvas of dreams illuminated by the sun of optimism  standing tall proud as an oak the branches of achievement reaching towards the sky of accomplishment  a heart overflowing with gratitude a garden where appreciation blooms in the soil of kindness and connection  extending a hand empathetic threads weaving a tapestry of understanding embracing the joys and sorrows of others  compassionate clouds heavy with care showering empathy on the parched grounds of human suffering  playfully dancing in the rain of laughter a whimsical spirit twirling in the puddles of joy and lightheartedness  soaring on the wings of a free spirit unburdened by the chains of conformity painting the sky with independence  bathed in the glow of inspiration a creative phoenix rising from the ashes of ordinary thoughts to explore new realms  navigating the sea of hope sailing towards the sunrise of possibilities confident in the ship of positive anticipation  striding with confidence footprints of selfassuredness imprinted on the sands of challenges conquered and victories claimed  lost in the symphony of the night a moonlit serenade that whispers tales of wanderlust and moonlit dreams  unveiling the layers of curiosity a labyrinth of questions leading to the treasure troves of undiscovered knowledge  in the embrace of the autumn breeze leaves of ambivalence dancing in a waltz between choices and uncertainties  gratitude as a guiding star navigating the constellation of blessings in the vast universe of lifes precious moments  with a zestful heart sprinting through fields of enthusiasm chasing sunbeams and laughter in the meadows of joy  a compassionate rain tears of empathy falling gently nurturing the seeds of kindness in the garden of human connections  proudly scaling the peaks of achievement a mountaineer conquering challenges and planting the flag of success  embraced by the hopeful dawn a gardener sowing seeds of optimism tending to the blooms of a brighter tomorrow  a playful escapade in the carnival of life carousel laughter and cotton candy dreams swirling in the joyous atmosphere  floating on clouds of inspiration an artist painting the sky with strokes of creativity creating a masterpiece of dreams  navigating the river of contentment a serene boat cruise through the tranquil waters of inner peace and acceptance  with empathy as a lantern wandering through the dark alleys of sorrow illuminating the path with compassion and care  a free spirit soaring on the wings of dreams leaving trails of independence in the azure sky of boundless possibilities  bathed in the golden hues of gratefulness a sunset of appreciation casting its warm glow on the landscapes of the heart  confident strides in the dance of life a ballroom where selfassuredness leads twirling through challenges with grace  hopeful whispers of wind carrying the promises of a brighter tomorrow a symphony of optimism in the air of possibilities  playfully juggling responsibilities a circus performer balancing the acts of work and joy tossing laughter into the air  whispering tales of inspiration to the stars a storyteller crafting constellations from the threads of imagination  charting a course through the waves of hopeful anticipation a sailor steering towards the shores of dreams yet unexplored  a compassionate rain tears of empathy falling gently nurturing the seeds of kindness in the garden of human connections  proudly scaling the peaks of achievement a mountaineer conquering challenges and planting the flag of success  embraced by the hopeful dawn a gardener sowing seeds of optimism tending to the blooms of a brighter tomorrow  a playful escapade in the carnival of life carousel laughter and cotton candy dreams swirling in the joyous atmosphere  floating on clouds of inspiration an artist painting the sky with strokes of creativity creating a masterpiece of dreams  navigating the river of contentment a serene boat cruise through the tranquil waters of inner peace and acceptance  with empathy as a lantern wandering through the dark alleys of sorrow illuminating the path with compassion and care  a free spirit soaring on the wings of dreams leaving trails of independence in the azure sky of boundless possibilities  bathed in the golden hues of gratefulness a sunset of appreciation casting its warm glow on the landscapes of the heart  confident strides in the dance of life a ballroom where selfassuredness leads twirling through challenges with grace  hopeful whispers of wind carrying the promises of a brighter tomorrow a symphony of optimism in the air of possibilities  playfully juggling responsibilities a circus performer balancing the acts of work and joy tossing laughter into the air  whispering tales of inspiration to the stars a storyteller crafting constellations from the threads of imagination  charting a course through the waves of hopeful anticipation a sailor steering towards the shores of dreams yet unexplored  a compassionate rain tears of empathy falling gently nurturing the seeds of kindness in the garden of human connections  proudly scaling the peaks of achievement a mountaineer conquering challenges and planting the flag of success  embraced by the hopeful dawn a gardener sowing seeds of optimism tending to the blooms of a brighter tomorrow  a playful escapade in the carnival of life carousel laughter and cotton candy dreams swirling in the joyous atmosphere  drowning in the abyss of despair a heart shattered into fragments lost in the echoing silence of hopelessness  bitterness festering like a venomous vine entwining the soul in a web of resentment poisoning the garden of peace  wandering through the desert of loneliness each step a heavy sigh mirages of connection shimmering but never materializing  yearning for a touch thats not there echoes of a distant warmth haunting the heart in the cold embrace of solitude  eyes wide open in the night fearful shadows dancing on the walls the mind a prisoner of imagined horrors  apprehensive steps on the tightrope of uncertainty a balancing act where the fall seems inevitable anxiety a constant companion  overwhelmed by the weight of the world atlas with trembling shoulders each responsibility a boulder in the landscape of exhaustion  jealousy a greeneyed monster lurking in the shadows casting a dark cloud over the sunshine of others success  devastated by the storm of betrayal the wreckage of trust scattered like debris a heart torn by the winds of broken promises  frustrated fingers tapping on the keyboard a symphony of annoyance composing an unsolvable puzzle of unmet expectations  envious eyes fixated on the gilded prize a heartache fueled by the painful desire for possessions that seem forever out of reach  dismissive glances a fortress built with indifference walls impenetrable to the pleas of understanding and recognition  shattered dreams lie on the floor like fragments of glass a mosaic of disappointment crafted by the hands of frustration  loneliness a silent companion in the night the only echo in the chamber of solitude a hearts solitary nocturne  fearful whispers in the dark the mind haunted by the specter of the unknown shadows dancing to the rhythm of anxietys tune  bitterness a bitter aftertaste lingering on the tongue each word a reminder of wounds that refuse to heal with the passing of time  overwhelmed by the cacophony of expectations a drowning soul in the tempest of pressure struggling to stay afloat  jealousy a venom that seeps through the veins poisoning the heart and turning it into a breeding ground for discontent  devastated by the revelation of betrayal the trust shattered like fragile glass leaving shards of pain in its wake  frustrated attempts to mend a broken connection the threads of understanding slipping through the fingers like grains of sand  envious gazes cast upon the podium of success a bitter pill swallowed the taste lingering as a constant reminder of unattained heights  dismissive gestures a curtain drawn to shield the vulnerability a stage where emotions take a backseat to the performance of indifference  despair like a heavy fog enveloping every thought blurring the path ahead a journey in the labyrinth of utter hopelessness  bitterness a bitter chill in the air freezing moments into icicles of resentment that dangle precariously over the landscape of memory  loneliness a solitary moon in a starless sky casting a cold glow on the landscape of isolation where echoes bounce in empty spaces  yearning for the warmth of a vanished sun a heartache painted in the hues of a sunset that never graced the horizon  fearful eyes scanning the shadows a prisoner of the night terrorized by the lurking monsters born from the minds darkest corners  apprehensive whispers in the wind a forecast of uncertainty the minds weather vane spinning wildly in the storm of doubt  overwhelmed by the maze of expectations a minotaur of pressure lurking in the labyrinth waiting to devour the spirit of resilience  jealousy a festering wound the pain intensifying with each glance at the garden of others achievements blooming beyond the fence  devastated a heart in ruins the echoes of shattered dreams reverberating in the chambers a requiem for what once was whole  frustrated attempts to untangle the knot of confusion the threads of understanding slipping further into the labyrinth of miscommunication  envious eyes locked on the treasure chest of opportunities a heartache fueled by the desire for keys that seem forever elusive  dismissive gestures a curtain drawn to shield the vulnerability a stage where emotions take a backseat to the performance of indifference  shattered dreams lie on the floor like fragments of glass a mosaic of disappointment crafted by the hands of frustration  loneliness a silent companion in the night the only echo in the chamber of solitude a hearts solitary nocturne awestruck by the breathtaking sunrise over the mountains      navigating through the challenges with determination          nostalgia hits while flipping through an old photo album     thrilled to witness the grandeur of a cultural festival       calmness found in the rhythm of raindrops on the windowpane   overwhelmed by the support received during a personal challengeexcitement builds as the countdown to a longawaited vacation begins reflecting on lifes journey grateful for the lessons learned bittersweet emotions arise while bidding farewell to a dear friend curiosity sparked by exploring a mysterious ancient ruin      admiration for the intricate details of a handcrafted masterpiece overjoyed by the warmth of a cozy fireplace on a winter evening   inspiration strikes while observing the colors of a vibrant sunsetmotivated to achieve fitness goals after an invigorating workout  gratitude for the simple joys found in a cup of morning coffee    feeling empowered after conquering a challenging hiking trail     amused by the antics of playful kittens during playtime           contemplating lifes mysteries under the starry night sky         joyful reunion with longlost friends after years of separation   excitement builds while preparing for a surprise celebration     satisfaction derived from successfully completing a diy project  feeling blessed for the supportive community in times of need    captivated by the serenity of a tranquil garden in full bloom     anticipation for an upcoming adventure in an exotic destination   reflecting on personal growth achieved through life experiences  nostalgic memories flood in while revisiting childhood favorites appreciation for the vibrant culture experienced during travel   confidence soars after overcoming public speaking anxiety       contentment in the midst of a family gathering filled with laughter enthusiasm for learning new skills and expanding knowledge      surprise and delight at discovering a hidden gem in the city    a sense of accomplishment after completing a challenging workoutwonderment at the beauty of a double rainbow after the rain     optimism for a bright future amidst challenging times           pride in achieving a personal milestone in career progression   happiness blooms like flowers in a garden on a sunny day        elation over discovering a rare book in a quaint bookstore      curiosity piqued by the mysteries of an ancient archaeological sitemesmerized by the cosmic dance of fireflies on a moonlit night    intrigued by the symphony of colors in an abstract art exhibition giggles and joy echo in the air during a childrens playdate      enveloped in serenity while practicing mindfulness by the lake    chasing dreams like a kite soaring high in the vast open sky      spellbound by the elegance of a ballroom dance under crystal chandeliers whimsical delight in a world of fairy tales and magical creatures  pensive contemplation amid the ancient ruins of a forgotten civilization embracing the thrill of speed on a rollercoasters exhilarating twists harmony resonates as musicians play a melody of unity and togetherness a burst of creativity in the quiet solitude of an artists studio  radiant joy akin to blooming flowers on a sunkissed spring morning a sense of wonder at the vastness of the cosmos on a stargazing night rejuvenated by the salty breeze and the sound of waves at the seaside whispers of inspiration from the rustling leaves in a serene forest savoring the warmth of a cup of cocoa on a chilly winter evening   heartfelt gratitude for the laughter shared during a family reunion embarking on a culinary adventure savoring exotic flavors around the world euphoria floods in as the final puzzle piece clicks into place       aweinspired by the grandeur of an ancient cathedrals intricate architecture captivated by the ethereal beauty of a field filled with fireflies immersed in the enchanting melodies of a street musicians violin joyful laughter resonates through a lively summer carnival         exploring the universe within during a mindful meditation session soaring like a free spirit on the winds of a coastal cliff        dazzled by the elegance of a masquerade balls dazzling costumes whimsical delight in a world of whimsical fairy tales             reflective contemplation amid the ruins of a forgotten era        riding the adrenaline rush on a rollercoasters wild twists      harmony resonates as musicians play a symphony of unity           a burst of artistic creativity in the quietude of an artists studio radiant joy akin to blossoming flowers on a sunlit spring morning aweinspired by the vastness of the cosmos on a stargazing night   rejuvenated by the salty breeze and the sound of waves at the seaside whispers of inspiration from the rustling leaves in a serene forest savoring the warmth of a cup of cocoa on a chilly winter evening   heartfelt gratitude for the laughter shared during a family reunion embarking on a culinary odyssey savoring flavors around the world euphoria floods in as the final puzzle piece fits perfectly       awestruck by the grandeur of an ancient cathedrals intricate architecture curiosity awakened by the mysteries of an ancient archaeological site giddy with excitement as the first snowflakes dance from the sky contentment envelops as the aroma of freshly baked bread fills the air inspired by the resilience of a lone tree standing tall in a storm lost in the pages of a captivating novel transported to another world drenched in nostalgia while flipping through an old family photo album spark of inspiration ignites like a shooting star in the night sky imbued with gratitude for the simple pleasure of a warm cup of tea marveling at the kaleidoscope of colors in a vibrant street market awash with serenity as the sun sets over a tranquil lakeside retreat drowning in sorrow as memories of lost love resurface            numbness sets in as the weight of loneliness grows heavier       tears fall like raindrops mourning the end of a cherished friendship despair clouds the mind feeling adrift in an endless sea of darkness shattered by betrayal trust crumbles like fragile glass          aching heart the symphony of pain plays in the silence of solitude emotional storm a whirlwind of sadness engulfs every thought    haunted by regrets the ghost of the past lingers relentlessly   torn apart by grief the echoes of loss reverberate through the soul isolation deepens an emotional winter where warmth is but a distant memory soulcrushing disappointment hopes shattered like fragile glass painful echoes of a love once cherished now lost in the abyss of time heartache deepens a solitary journey through the abyss of despair melancholy lingers a bittersweet serenade in the quietude of solitude bitterness like a poison seeping into every crevice of the wounded heart emotional exhaustion the weight of the world crushing weary shoulders sorrowful echoes a symphony of pain played by the strings of loss darkness descends engulfing the soul in the shadows of despair  desperation whispers the silent plea for a glimmer of hope in the abyss heart in ruins the remnants of shattered dreams scattered in the wind shattered by the echoes of a shattered dream fragments of hope scattered avoiding the thorns of regret walking barefoot on the path of remorse in the labyrinth of grief the walls echo with the footsteps of lost joy a soul adrift in the sea of solitude waves of loneliness crashing relentlessly the bitterness of betrayal a taste that lingers staining the palate of trust in the ruins of hope echoes of shattered dreams whisper tales of loss sinking like a stone in the ocean of heartbreak each ripple a sigh of despair tears the ink staining the pages of a journal a testament to silent grief in the wasteland of lost trust the echoes of broken promises reverberate avoiding the shards of shattered dreams walking the tightrope of resilience suffocating in the silence of solitude where echoes of laughter once thrived haunted by the specter of lost possibilities a ghost that refuses to fade away in the labyrinth of despair the echoes of a broken heart reverberate endlessly sinking like autumn leaves in the river of sorrow carried away by the current in the garden of broken dreams petals fall a silent testimony to shattered hopes tears the currency of grief spent in the marketplace of lost love and longing wandering in the maze of betrayal the walls closing in with every wrong turn a soul weathered by the storm of heartbreak seeking refuge in the calm after in the tapestry of despair threads of hope unravel leaving a portrait of sorrow like a withered rose in the garden of love petals fall a silent surrender to time in the void of heartache echoes of a love song play each note a pang of longing nostalgia a bittersweet dance in the moonlit ballroom of cherished memories in the symphony of grief each tear is a note composing a melancholic melody betrayal a venomous serpent slithering through the garden of trust poisoning roots sinking in the quicksand of despair the harder you fight the deeper you descend wandering through the cemetery of lost dreams tombstones marking untold sorrows swept away by the river of regret the currents of the past refusing to release whispers of lost love linger in the attic of the heart forgotten but not erased in the gallery of broken promises each shattered vow framed a painful exhibition the echoes of solitude a silent conversation between a soul and its shadows dancing on sunshine each step a celebration of the joy found in simple moments laughter echoes in the air a chorus of happiness that lifts the spirit higher in the garden of contentment each bloom whispers tales of inner peace and joy chasing dreams under the vibrant sky a journey fueled by hope and enthusiasm serenading the stars with a heart full of gratitude a melody of thankfulness basking in the glow of accomplishment each milestone a stepping stone to happiness in the dance of positivity every step is a rhythm uplifting the soul in harmony overflowing with joy a cup of laughter shared with friends a moment cherished draped in the warmth of kindness a quilt of compassion stitched with love in the garden of friendships each bloom a testament to the beauty of camaraderie in the embrace of love each heartbeat is a melody dancing to the rhythm of affection surrounded by the colors of joy a canvas painted with laughter and endless smiles in the symphony of excitement each note is a burst of energy igniting the soul with fervor a surprise gift wrapped in anticipation unfolds a moment of delight and wonder lost in the maze of curiosity each twist and turn unveils the treasures of discovery floating on clouds of gratitude each raindrop a blessing a shower of thankfulness like a comet of inspiration streaking through the sky of creativity leaving trails of brilliance in the celebration of success fireworks of accomplishment light up the night sky of triumph a symphony of laughter each note a key to unlocking the door of boundless happiness in the carnival of emotions the rollercoaster of thrill sends the heart on a wild ride standing before the grandeur of the eiffel tower a moment to reflect on the beauty of parisian dreams lost in the enchantment of disneyland each ride a journey into the realm of childhood fantasies exploring the wonders of ferrari world the roar of engines creating a symphony of speed amidst the tulip fields of keukenhof a tapestry of colors that paints the soul with springtime joy wandering through the historical streets of kyoto each step a journey into the heart of japans traditions in the embrace of the grand canyon natures masterpiece a moment to marvel at earths grandeur journeying through the serenity of santorini where each sunset paints the sky with hues of tranquility amazed by the architectural marvels of petra each stone telling tales of an ancient civilization embarking on a gondola ride in venice each canal reflecting the romance of this timeless city at the summit of machu picchu a breathtaking panorama that whispers the secrets of ancient civilizations in the heart of new york city times square dazzles with lights a vibrant spectacle of urban energy captivated by the historical charm of the colosseum each stone echoing tales of gladiator valor sailing the azure waters of the maldives each wave a whisper of serenity in paradise in the midst of the amazon rainforest a symphony of wildlife creates an orchestra of natures wonders walking the great wall of china each step a testament to ancient engineering marvels at the summit of mount fuji a breathtaking sunrise that paints the sky with hues of accomplishment exploring the ancient ruins of angkor wat each stone whispering stories of khmer civilization skiing down the slopes of the swiss alps each turn a dance with the majesty of snowcapped peaks in the tranquility of kyotos bamboo forest whispers of ancient zen wisdom echo through the groves cruising the fjords of norway each icy landscape a breathtaking masterpiece of natures grandeur at the front row of adeles concert each note of someone like you resonates with soulstirring emotion dancing under the stars at beyoncés live show feeling the power of single ladies in every move in the crowd of a taylor swift concert the lyrics of love story create an enchanting fairy tale rocking out to the guitar solos at a queen tribute concert a journey back in time with freddies spirit swaying to ed sheerans acoustic melodies a serene evening filled with perfect moments immersed in the pulsating beats of a bruno mars concert where uptown funk becomes a city of joy at a michael jackson tribute show moonwalking through the hits a celebration of the king of pop swinging to the rhythms of a frank sinatra tribute feeling the timeless charm of fly me to the moon in the mosh pit of a metallica concert the thunderous chords create a symphony of headbanging ecstasy experiencing the magic of a coldplay concert where fix you becomes a beacon of hope in the night at a justin bieber concert the infectious beats of baby create a dance floor of unbridled enthusiasm in the spotlight at a lady gaga show each costume change is a metamorphosis of creativity and artistry immersed in the soulful melodies of adele tears flow freely moved by the emotion of hello drenched in confetti at a katy perry concert a kaleidoscope of colors igniting the night sky in the audience of a jayz performance the lyrics of empire state of mind become an anthem of pride dancing to shakiras rhythmic beats hips swaying to the hypnotic charm of hips dont lie at a u2 concert the anthemic chords of with or without you create a timeless moment of connection rocking out at a guns n roses show the iconic riffs of sweet child o mine echoing in the night in the crowd of an ariana grande concert the high notes of into you create a euphoric symphony swaying to the reggae vibes of bob marleys tribute concert each chord a journey to jamaicas soul captivated by the spellbinding plot twists the audience applauds experiencing a rollercoaster of emotions at the movie premiere as the credits roll a profound sense of nostalgia washes over reminiscent of cherished moments in classic films streaming the latest web series the viewer is engrossed in the characters journey feeling a sense of connection and empathy at the film festival the indie filmmakers creation receives a standing ovation evoking pride and a sense of accomplishment watching a heartwarming family drama tears flow freely as the characters overcome challenges leaving the viewer with a warm glow at the oscars the actor graciously accepts an award radiating joy and gratitude for the recognition of their outstanding performance discovering a hidden gem in the world of documentaries the viewer is enlightened and inspired feeling a renewed sense of curiosity as the movie credits roll the viewer experiences a mix of awe and contemplation pondering the deeper meanings woven into the storyline bingewatching a thrilling crime series the suspense keeps the viewer on the edge of their seat creating a rush of adrenaline as the closing scene unfolds a sense of satisfaction washes over completing the cinematic journey with a profound and fulfilling ending celebrating a historic victory in the world cup the nation erupts in joy united by the triumph of their football team at the olympics the athletes perseverance shines through earning a gold medal and inspiring a generation with their remarkable achievement in the cricket championship a nailbiting finish leaves fans on the edge of their seats experiencing a rollercoaster of emotions witnessing a recordbreaking marathon spectators are filled with awe and admiration for the endurance and dedication of the runners in the tennis grand slam a fierce rivalry unfolds captivating fans with a display of skill and sportsmanship on the world stage cheering for the underdog in the basketball finals the crowd erupts in applause as the team defies odds to claim the championship title at the golf tournament the golfers precision and focus lead to a stunning victory leaving spectators in awe of their exceptional skill experiencing the thrill of a highspeed formula 1 race fans are on the edge of their seats as drivers compete for the championship in the cycling world championship the climber conquers challenging terrains symbolizing determination and achievement against all odds witnessing a heartwarming comeback in the hockey finals fans share tears of joy as the team secures a historic victory after adversity after a series of defeats the soccer team faces disappointment struggling to find the silver lining in a challenging season in the tennis tournament a highly anticipated player experiences a setback leaving fans in shock and questioning the unforeseen turn of events facing a defeat in the championship the boxer reflects on the challenges vowing to return stronger and more determined in the next bout in the midst of a cycling race a tire blowout leads to frustration for the cyclist who valiantly tries to overcome the unexpected obstacle the gymnasts unexpected fall during a routine sparks a wave of sympathy from the audience highlighting the vulnerability of sports in the golf tournament a missed crucial putt results in defeat causing the golfer to reflect on the pressure of highstakes competition experiencing a series of losses in the basketball season the team grapples with frustration determined to turn the tide with renewed effort despite meticulous training the swimmer faces disappointment as a splitsecond miscalculation costs them the lead in a crucial race the weightlifters failed attempt at a personal record results in frustration highlighting the challenging nature of pushing physical limits in the midst of a soccer match an unexpected own goal creates a moment of despair for the player as teammates console and encourage them in the serene beauty of a sunset nature unfolds a canvas of colors evoking a sense of tranquility and wonder embarking on a spontaneous road trip the traveler discovers hidden gems creating memories that will be cherished for a lifetime amidst the bustling city a quiet café becomes a sanctuary for reflection where a cup of coffee brings solace to the wandering mind exploring the vibrant street art of a cultural neighborhood each mural tells a story infusing the city with creativity and expression in the world of science a breakthrough discovery unfolds pushing the boundaries of knowledge and opening new frontiers of exploration connecting with the melody of a live orchestra the music enthusiast experiences a symphony that resonates deep within the soul embracing the aroma of freshly baked bread the home chef finds joy in the art of baking creating delicious memories for loved ones wandering through a historical museum the history enthusiast becomes immersed in the tales of the past envisioning bygone eras in the realm of literature a captivating novel transports the reader to distant lands weaving a tapestry of imagination and escape capturing the essence of a bustling market the photographer freezes moments in time each frame telling a unique and vibrant story underneath the city lights the dancer expresses emotions through graceful movements creating a mesmerizing performance under the night sky in the heart of a bustling market the street food connoisseur indulges in a culinary adventure savoring diverse flavors and aromas as the first snowflake descends the winter enthusiast eagerly prepares for a season of frosty delights anticipating the magic of snowcovered landscapes amidst the pages of a captivating mystery novel the reader unravels clues and secrets experiencing a thrilling journey of suspense and revelation surrounded by the vibrant colors of a flower garden the gardener nurtures blossoms finding joy in the beauty of natures everchanging canvas at the astronomy observatory the stargazer marvels at the vastness of the cosmos contemplating the mysteries hidden within the celestial expanse engulfed in the aroma of freshly brewed coffee the writer finds inspiration in every sip embarking on a journey of creativity and prose in the realm of fashion the designer unveils a collection that tells a story blending innovation and tradition on the runway of creativity as the waves crash against the shore the surfer embraces the thrill of riding the oceans energy capturing the essence of freedom in each wave exploring the historical architecture of an ancient city the traveler is transported to a bygone era where each monument whispers tales of the past successfully avoided eye contact with my crush in the hallway mission accomplished teencrush stealthmode ran out of snacks during a movie marathon crisis level emergency movienightstruggles teenproblems spent an hour choosing the perfect filter for a selfie the struggle for that instagram aesthetic is real selfiequeen teenvibes lost my headphones again how do they vanish into thin air headphonemystery teenlife decided to study for exams but ended up making memes about studying instead procrastination level expert procrastinationnation teenconfessions got dressed for the day then remembered its saturday oops weekendvibes teenstruggles survived a group project without any drama miracles do happen groupprojectsuccess teenachievements entered the kitchen with the intention to cook left with a bag of chips cooking is overrated anyway masterchefintraining teenhumor staring at the clock in class waiting for the bell to ring like its the most exciting event of the day classcountdown teenlife discovered a new book series and spent the whole night reading who needs sleep anyway bookwormlife latenightreading bought a new video game played for hours forgot to eat the ultimate gaming session gamerlife nofoodgaming spent the day bingewatching a new series productivity level zero lazyday tvseriesmarathon caught up on the latest fashion trends and now planning a shopping spree fashionista trendyteen decided to learn a new instrument day one still trying to figure out how to hold it musicnovice learningjourney spent hours creating the perfect playlist for every mood music is my therapy playlistmaker teenmusiclover successfully cooked a gourmet meal for the family chef skills unlocked chefmode teenchef spontaneously booked a weekend getaway adventure awaits travelbug weekendescape attended a concert and danced the night away music is the heartbeat of life concertvibes danceallnight rediscovered childhood cartoons and had a nostalgiafilled marathon cartoonnostalgia teenmemories embarked on a diy home decor project lets hope it turns out better than last time diyadventure teenhomedecor spent the afternoon at a museum pretending to be cultured art enthusiast in the making museumday teenartlover started a blog about random thoughts and musings blogging is the new diary bloggerlife teenblogger relishing a peaceful afternoon with a classic novel quiet moments are the best moments booklover peacefulafternoon reflecting on a lifetime of memories each wrinkle tells a story embracing the beauty of aging lifereflections beautyinaging exploring the world of digital art its never too late to discover new passions digitalartistry latebloomer savoring the flavors of a homecooked meal simple joys are the heart of happiness homecooking simplejoys embarking on a journey of learning a new language the mind stays young with every new word languagelearning nevertoolate attended a classical music concert feeling the timeless melodies resonate music transcends generations classicalmusic timelessmelodies capturing the beauty of nature through photography every snapshot is a treasure naturephotography seniorphotographer reconnecting with old friends over a cup of tea friendship the true essence of companionship oldfriends companionship embarked on a road trip to revisit cherished places from the past nostalgia the ultimate travel companion roadtrip nostalgiatour joined a community choir harmonizing with fellow voices music creates bonds that withstand time communitychoir harmonyinaging exploring the art of meditation finding tranquility in the stillness of the mind meditationjourney tranquilmind taking a stroll in the garden appreciating the beauty of blooming flowers natures wonders never cease gardenwalk floralbeauty sipping on a favorite vintage wine each sip telling a story of the years gone by cheers to a life welllived winelover vintagecheers participated in a community art class unleashing creativity in the golden years art has no age limit artclass seniorartistry embarking on a journey of writing a memoir documenting a lifetime of experiences every story matters memoirwriting seniorstories attended a lecture on history always fascinated by the lessons from the past learning is a lifelong adventure historylecture seniorlearning rediscovered the joy of cooking traditional family recipes the kitchen a place of cherished memories familyrecipes seniorcooking joined a nature photography club capturing the beauty of the great outdoors every click is a connection to nature naturephotography seniorphotographer attended a jazz concert and swayed to the rhythm of timeless tunes music a constant companion in the golden years jazzconcert seniormusic joined a writing group penning down thoughts and reflections writing a journey into the depths of the soul writinggroup seniorwriter embarked on a solo travel adventure discovering the beauty of new places at my own pace solotravel seniorexplorer attended a vintage car show reminiscing about the classics that once ruled the roads nostalgia in every rev vintagecars classicrides started a community garden growing not just plants but friendships too green thumbs unite communitygarden seniorgardener hosted a family dinner where laughter echoed louder than the clinking of utensils family the heart of happiness familydinner seniorhost enrolled in a dance class for seniors moving to the rhythm of life age is just a number on the dance floor danceclass seniordancer visited an art gallery appreciating the brushstrokes that tell tales of creativity art an eternal companion artgallery seniorartlover started a book club for seniors where discussions are as lively as the characters in the novels bookclub seniorreaders hosted a picnic in the park basking in the warmth of friendship and sunshine simple joys timeless memories parkpicnic seniorjoy participated in a local theater production proving that the stage belongs to every age theaterproduction senioractor embarked on a hiking adventure conquering trails and relishing the beauty of nature age is just a number on the mountaintop hikingadventure seniorhiker hosted a photography exhibition featuring snapshots of a life welllived every photo has a story to tell photographyexhibition seniorphotographer joined a seniors cycling club feeling the wind in my hair and the freedom of the open road cyclingclub seniorcyclist attended a wine tasting event savoring the richness of flavors that age like fine wine cheers to the golden years winetasting seniorwinelover started learning ballroom dancing gliding gracefully across the dance floor ageless elegance in every step ballroomdancing seniordancer organized a community painting event turning blank canvases into a masterpiece of shared creativity paintingevent seniorartist hosted a memory lane evening with old friends reminiscing about the adventures that shaped our lives memorylane seniorreminiscing joined a seniors astronomy club stargazing and finding wonder in the vastness of the cosmos astronomyclub seniorstargazer attended a local jazz festival tapping toes to the tunes that have stood the test of time music a lifelong love affair jazzfestival seniormusiclover started a blog sharing the wisdom gained through the years proving that every day is a chance to learn and grow seniorwisdom blog participated in a charity run proving that age is no barrier to supporting meaningful causes charityrun seniorrunner survived a challenging physics exam equations you wont defeat me exploring the world of coding debugging is an adventure on its own codingjourney highschoolcoder joined the school debate team words are my weapons and im ready for battle started a photography club at school capturing moments one snapshot at a time daydreaming about the upcoming prom the dress the dance  its a fairytale in the making convinced the teacher to have class outdoors learning equations with a side of fresh air accidentally spilled paint in art class abstract art right artclassadventures highschoolartist trying to master the perfect kickflip on my skateboard skating into the weekend like a pro bonding with friends over the latest kpop sensation fangirling at its finest spent hours perfecting a chemistry experiment mixing potions like a wizard successfully organized a surprise birthday party for a friend party planning expert mode achieved joined the drama club to unleash my inner actor lights camera action got my hands on the latest fantasy novel diving into realms of magic and adventure mastering the art of the perfect doodle during boring classes doodles a attempting to break the school record for the longest handstand wish me luck sneaking snacks into class like a pro the art of snacksmuggling is a sacred skill hosting a sleepover with friends this weekend preparing for a night of laughter and memories spent hours on a tiktok dance only to realize i have two left feet dance fail unleashed accidentally liked my crushs old photo while stalking their profile awkward level maximum tried to impress my crush with a smooth conversation ended up spilling my drink smooth level nonexistent mastered the art of creating paper airplanes during lecture paper planes soaring to new heights trying to set a new trend by juggling textbooks between classes academic juggling a unique skill hiding a snack stash in my backpack for emergency cravings snack ninja mode activated planning a surprise scavenger hunt for friends anticipating the thrill and excitement danced in the rain to celebrate the end of exams rain dance unexpectedly refreshing accidentally sent a text meant for a friend to the class group chat texting fail oops moment tried a magic trick to impress classmates magic fail where did that rabbit go perfecting the art of creating origami during a dull lecture origami mastery a attempting to set a new record for the most consecutive hacky sack kicks hacky sack skills unleashed creating a secret handshake with friends friendship level expert embarking on a mission to find the best burger joint in town burger connoisseur reporting for duty practicing a standup comedy routine for the upcoming talent show comedy gig in the making accidentally sent a love letter to the wrong person love note fail maximum embarrassment attempting to impress the teacher with an elaborate science experiment science geek mode activated crafting intricate friendship bracelets for the whole squad friendship level expert weaver attempting to beat the record for the most consecutive cartwheels cartwheel challenge underway organizing a movie marathon with friends popcorn and cinematic adventures await experimenting with a new hair color a bold change for a bold semester building a time capsule to capture memories for the future timetraveling emotions accidentally walked into the wrong classroom on the first day classroom mixup awkward start trying out a new smoothie recipe for a healthy start to the week smoothie enthusiast level up reflecting on the challenges of the school year feeling a bit overwhelmed with assignments encountered some meanspirited comments online dealing with online hate is never easy had a bad day at school everything seems to be going wrong feeling down after not making the sports team disappointment lingers witnessed a heated argument in the cafeteria unpleasant atmosphere at lunch received a notsogreat grade on a major project academic frustration setting in dealing with a personal setback sometimes life throws unexpected challenges feeling lonely on a saturday night sometimes solitude hits harder than expected experiencing cyberbullying hateful messages online are disheartening caught in a torrential rainstorm without an umbrella todays weather is just bad luck missing an important event due to unforeseen circumstances a day filled with sadness dealing with unfounded rumors circulating about personal life rumors can be hurtful got a flat tire on the way to an important meeting talk about a series of bad events feeling a sense of emptiness after a close friend moves away farewells are always sad facing rejection from a dream college disheartened but determined to explore other paths encountering online toxicity during a gaming session hateful comments can ruin the fun having a bad hair day and feeling selfconscious bad hair days can affect confidence feeling a sense of despair after a major project failure hard work didnt pay off this time experiencing hate comments for expressing personal opinions online negativity prevails having a string of bad luck with constant technology malfunctions tech troubles galore missing out on a longanticipated event due to unexpected circumstances a day filled with sadness trying out a new study technique for upcoming exams exploring different learning strategies organizing a community cleanup event for a cleaner neighborhood promoting environmental awareness sharing favorite book recommendations with classmates building a mini book club experimenting with a new recipe for a school bake sale baking adventures in the kitchen collaborating on a school project with peers teamwork makes the dream work attending a school club meeting to explore new interests dabbling in extracurricular activities exploring a new parttime job opportunity for gaining work experience career development in progress attending a school assembly to stay informed about upcoming events and announcements staying connected with school activities exploring a new hobby of photography during free time capturing moments through a lens participating in a science fair to showcase a unique experiment sharing knowledge with peers attending a workshop on time management to enhance organizational skills striving for efficiency volunteering at a local charity event to give back to the community contributing to social causes collaborating on a group project to promote teamwork and shared responsibilities group effort in action participating in a debate club to enhance critical thinking and communication skills intellectual engagement in progress celebrating a friends birthday with a surprise party joyful moments and laughter all around successfully completing a challenging coding project excitement for overcoming coding hurdles attending a school talent show to support classmates applauding the diverse talents on display exploring a new hiking trail with friends over the weekend nature laughter and good vibes winning a friendly sports competition against rival schools victory celebrations in full swing receiving a heartfelt letter from a pen pal in another country connecting across the globe creating a beautiful mural with fellow art enthusiasts the power of collaboration and creativity participating in a schoolwide art exhibition witnessing creativity and spreading positive vibes achieving a personal best in a track and field competition the thrill of victory and selfimprovement collaborating on a science project that received recognition at a regional fair science triumphs and smiles attending a surprise birthday party organized by friends surrounded by love laughter and good company successfully fundraising for a school charity initiative the joy of giving back to the community participating in a multicultural festival celebrating diversity with music dance and delicious food organizing a virtual talent show during challenging times bringing smiles to classmates faces '"
            ],
            "application/vnd.google.colaboratory.intrinsic+json": {
              "type": "string"
            }
          },
          "metadata": {},
          "execution_count": 9
        }
      ]
    },
    {
      "cell_type": "code",
      "source": [
        "print(dt)"
      ],
      "metadata": {
        "colab": {
          "base_uri": "https://localhost:8080/"
        },
        "id": "PRMZOuqp7exA",
        "outputId": "75d95bcf-a5bd-4ce4-cab1-7fa8624995a6"
      },
      "execution_count": 10,
      "outputs": [
        {
          "output_type": "stream",
          "name": "stdout",
          "text": [
            "0       enjoying a beautiful day at the park         ...\n",
            "1       traffic was terrible this morning            ...\n",
            "2       just finished an amazing workout                \n",
            "3       excited about the upcoming weekend getaway   ...\n",
            "4       trying out a new recipe for dinner tonight   ...\n",
            "                             ...                        \n",
            "727    collaborating on a science project that receiv...\n",
            "728    attending a surprise birthday party organized ...\n",
            "729    successfully fundraising for a school charity ...\n",
            "730    participating in a multicultural festival cele...\n",
            "731    organizing a virtual talent show during challe...\n",
            "Name: Text, Length: 732, dtype: object\n"
          ]
        }
      ]
    },
    {
      "cell_type": "code",
      "source": [
        "# Memisahkan setiap kata dalam setiap dokumen teks\n",
        "print('HASIL TOKENISASI')\n",
        "hasil_tokenisasi = dt.apply(lambda x: x.split())\n",
        "print(hasil_tokenisasi)"
      ],
      "metadata": {
        "colab": {
          "base_uri": "https://localhost:8080/"
        },
        "id": "mH6Or3U09U4V",
        "outputId": "34582dc8-17bb-4705-d74b-f0ced043df93"
      },
      "execution_count": 11,
      "outputs": [
        {
          "output_type": "stream",
          "name": "stdout",
          "text": [
            "HASIL TOKENISASI\n",
            "0           [enjoying, a, beautiful, day, at, the, park]\n",
            "1                [traffic, was, terrible, this, morning]\n",
            "2                 [just, finished, an, amazing, workout]\n",
            "3      [excited, about, the, upcoming, weekend, getaway]\n",
            "4      [trying, out, a, new, recipe, for, dinner, ton...\n",
            "                             ...                        \n",
            "727    [collaborating, on, a, science, project, that,...\n",
            "728    [attending, a, surprise, birthday, party, orga...\n",
            "729    [successfully, fundraising, for, a, school, ch...\n",
            "730    [participating, in, a, multicultural, festival...\n",
            "731    [organizing, a, virtual, talent, show, during,...\n",
            "Name: Text, Length: 732, dtype: object\n"
          ]
        }
      ]
    },
    {
      "cell_type": "code",
      "source": [
        "nltk.download('stopwords')"
      ],
      "metadata": {
        "colab": {
          "base_uri": "https://localhost:8080/"
        },
        "id": "Db-2tMLv3S1_",
        "outputId": "04f49c3a-709e-4c0f-dc9f-6492853bcf9a"
      },
      "execution_count": 12,
      "outputs": [
        {
          "output_type": "stream",
          "name": "stderr",
          "text": [
            "[nltk_data] Downloading package stopwords to /root/nltk_data...\n",
            "[nltk_data]   Package stopwords is already up-to-date!\n"
          ]
        },
        {
          "output_type": "execute_result",
          "data": {
            "text/plain": [
              "True"
            ]
          },
          "metadata": {},
          "execution_count": 12
        }
      ]
    },
    {
      "cell_type": "code",
      "source": [
        "#menghapus kata tidak bermakna seperti a, i, and, dan sebagainya\n",
        "stop_words = set(stopwords.words('english'))\n",
        "hasil_tokenisasi = hasil_tokenisasi.apply(lambda x: [word for word in x if word not in stop_words])\n",
        "hasil_tokenisasi"
      ],
      "metadata": {
        "colab": {
          "base_uri": "https://localhost:8080/",
          "height": 458
        },
        "id": "XdtyEwLw9a2y",
        "outputId": "7a3ee8d1-5658-4280-c32b-08ef9aee7cee"
      },
      "execution_count": 13,
      "outputs": [
        {
          "output_type": "execute_result",
          "data": {
            "text/plain": [
              "0                       [enjoying, beautiful, day, park]\n",
              "1                           [traffic, terrible, morning]\n",
              "2                           [finished, amazing, workout]\n",
              "3                  [excited, upcoming, weekend, getaway]\n",
              "4                 [trying, new, recipe, dinner, tonight]\n",
              "                             ...                        \n",
              "727    [collaborating, science, project, received, re...\n",
              "728    [attending, surprise, birthday, party, organiz...\n",
              "729    [successfully, fundraising, school, charity, i...\n",
              "730    [participating, multicultural, festival, celeb...\n",
              "731    [organizing, virtual, talent, show, challengin...\n",
              "Name: Text, Length: 732, dtype: object"
            ],
            "text/html": [
              "<div>\n",
              "<style scoped>\n",
              "    .dataframe tbody tr th:only-of-type {\n",
              "        vertical-align: middle;\n",
              "    }\n",
              "\n",
              "    .dataframe tbody tr th {\n",
              "        vertical-align: top;\n",
              "    }\n",
              "\n",
              "    .dataframe thead th {\n",
              "        text-align: right;\n",
              "    }\n",
              "</style>\n",
              "<table border=\"1\" class=\"dataframe\">\n",
              "  <thead>\n",
              "    <tr style=\"text-align: right;\">\n",
              "      <th></th>\n",
              "      <th>Text</th>\n",
              "    </tr>\n",
              "  </thead>\n",
              "  <tbody>\n",
              "    <tr>\n",
              "      <th>0</th>\n",
              "      <td>[enjoying, beautiful, day, park]</td>\n",
              "    </tr>\n",
              "    <tr>\n",
              "      <th>1</th>\n",
              "      <td>[traffic, terrible, morning]</td>\n",
              "    </tr>\n",
              "    <tr>\n",
              "      <th>2</th>\n",
              "      <td>[finished, amazing, workout]</td>\n",
              "    </tr>\n",
              "    <tr>\n",
              "      <th>3</th>\n",
              "      <td>[excited, upcoming, weekend, getaway]</td>\n",
              "    </tr>\n",
              "    <tr>\n",
              "      <th>4</th>\n",
              "      <td>[trying, new, recipe, dinner, tonight]</td>\n",
              "    </tr>\n",
              "    <tr>\n",
              "      <th>...</th>\n",
              "      <td>...</td>\n",
              "    </tr>\n",
              "    <tr>\n",
              "      <th>727</th>\n",
              "      <td>[collaborating, science, project, received, re...</td>\n",
              "    </tr>\n",
              "    <tr>\n",
              "      <th>728</th>\n",
              "      <td>[attending, surprise, birthday, party, organiz...</td>\n",
              "    </tr>\n",
              "    <tr>\n",
              "      <th>729</th>\n",
              "      <td>[successfully, fundraising, school, charity, i...</td>\n",
              "    </tr>\n",
              "    <tr>\n",
              "      <th>730</th>\n",
              "      <td>[participating, multicultural, festival, celeb...</td>\n",
              "    </tr>\n",
              "    <tr>\n",
              "      <th>731</th>\n",
              "      <td>[organizing, virtual, talent, show, challengin...</td>\n",
              "    </tr>\n",
              "  </tbody>\n",
              "</table>\n",
              "<p>732 rows × 1 columns</p>\n",
              "</div><br><label><b>dtype:</b> object</label>"
            ]
          },
          "metadata": {},
          "execution_count": 13
        }
      ]
    },
    {
      "cell_type": "code",
      "source": [
        "#mengubah kata ke bentuk dasar (lemmatization)\n",
        "from nltk.stem import WordNetLemmatizer\n",
        "nltk.download('wordnet')\n",
        "lemmatizer = WordNetLemmatizer()\n",
        "\n",
        "dt = hasil_tokenisasi.apply(lambda x: [lemmatizer.lemmatize(word) for word in x])"
      ],
      "metadata": {
        "id": "0LwDexHcCXgP",
        "colab": {
          "base_uri": "https://localhost:8080/"
        },
        "outputId": "34a09ac4-6870-42fa-ff16-46d493a38d80"
      },
      "execution_count": 14,
      "outputs": [
        {
          "output_type": "stream",
          "name": "stderr",
          "text": [
            "[nltk_data] Downloading package wordnet to /root/nltk_data...\n",
            "[nltk_data]   Package wordnet is already up-to-date!\n"
          ]
        }
      ]
    },
    {
      "cell_type": "code",
      "source": [
        "dt"
      ],
      "metadata": {
        "colab": {
          "base_uri": "https://localhost:8080/",
          "height": 458
        },
        "id": "iu95B3UMEeFg",
        "outputId": "f386f403-1c5b-4d57-c7c2-7ca874c7b762"
      },
      "execution_count": 15,
      "outputs": [
        {
          "output_type": "execute_result",
          "data": {
            "text/plain": [
              "0                       [enjoying, beautiful, day, park]\n",
              "1                           [traffic, terrible, morning]\n",
              "2                           [finished, amazing, workout]\n",
              "3                  [excited, upcoming, weekend, getaway]\n",
              "4                 [trying, new, recipe, dinner, tonight]\n",
              "                             ...                        \n",
              "727    [collaborating, science, project, received, re...\n",
              "728    [attending, surprise, birthday, party, organiz...\n",
              "729    [successfully, fundraising, school, charity, i...\n",
              "730    [participating, multicultural, festival, celeb...\n",
              "731    [organizing, virtual, talent, show, challengin...\n",
              "Name: Text, Length: 732, dtype: object"
            ],
            "text/html": [
              "<div>\n",
              "<style scoped>\n",
              "    .dataframe tbody tr th:only-of-type {\n",
              "        vertical-align: middle;\n",
              "    }\n",
              "\n",
              "    .dataframe tbody tr th {\n",
              "        vertical-align: top;\n",
              "    }\n",
              "\n",
              "    .dataframe thead th {\n",
              "        text-align: right;\n",
              "    }\n",
              "</style>\n",
              "<table border=\"1\" class=\"dataframe\">\n",
              "  <thead>\n",
              "    <tr style=\"text-align: right;\">\n",
              "      <th></th>\n",
              "      <th>Text</th>\n",
              "    </tr>\n",
              "  </thead>\n",
              "  <tbody>\n",
              "    <tr>\n",
              "      <th>0</th>\n",
              "      <td>[enjoying, beautiful, day, park]</td>\n",
              "    </tr>\n",
              "    <tr>\n",
              "      <th>1</th>\n",
              "      <td>[traffic, terrible, morning]</td>\n",
              "    </tr>\n",
              "    <tr>\n",
              "      <th>2</th>\n",
              "      <td>[finished, amazing, workout]</td>\n",
              "    </tr>\n",
              "    <tr>\n",
              "      <th>3</th>\n",
              "      <td>[excited, upcoming, weekend, getaway]</td>\n",
              "    </tr>\n",
              "    <tr>\n",
              "      <th>4</th>\n",
              "      <td>[trying, new, recipe, dinner, tonight]</td>\n",
              "    </tr>\n",
              "    <tr>\n",
              "      <th>...</th>\n",
              "      <td>...</td>\n",
              "    </tr>\n",
              "    <tr>\n",
              "      <th>727</th>\n",
              "      <td>[collaborating, science, project, received, re...</td>\n",
              "    </tr>\n",
              "    <tr>\n",
              "      <th>728</th>\n",
              "      <td>[attending, surprise, birthday, party, organiz...</td>\n",
              "    </tr>\n",
              "    <tr>\n",
              "      <th>729</th>\n",
              "      <td>[successfully, fundraising, school, charity, i...</td>\n",
              "    </tr>\n",
              "    <tr>\n",
              "      <th>730</th>\n",
              "      <td>[participating, multicultural, festival, celeb...</td>\n",
              "    </tr>\n",
              "    <tr>\n",
              "      <th>731</th>\n",
              "      <td>[organizing, virtual, talent, show, challengin...</td>\n",
              "    </tr>\n",
              "  </tbody>\n",
              "</table>\n",
              "<p>732 rows × 1 columns</p>\n",
              "</div><br><label><b>dtype:</b> object</label>"
            ]
          },
          "metadata": {},
          "execution_count": 15
        }
      ]
    },
    {
      "cell_type": "code",
      "source": [
        "#menggabungkan kembali kata menjadi kalimat\n",
        "dt = dt.apply(lambda x: ' '.join(x))\n",
        "print(dt)"
      ],
      "metadata": {
        "colab": {
          "base_uri": "https://localhost:8080/"
        },
        "id": "vOYnVP9SD_y4",
        "outputId": "963d3a12-7c16-49e1-ea2f-2d6eafa4d21e"
      },
      "execution_count": 16,
      "outputs": [
        {
          "output_type": "stream",
          "name": "stdout",
          "text": [
            "0                            enjoying beautiful day park\n",
            "1                               traffic terrible morning\n",
            "2                               finished amazing workout\n",
            "3                       excited upcoming weekend getaway\n",
            "4                       trying new recipe dinner tonight\n",
            "                             ...                        \n",
            "727    collaborating science project received recogni...\n",
            "728    attending surprise birthday party organized fr...\n",
            "729    successfully fundraising school charity initia...\n",
            "730    participating multicultural festival celebrati...\n",
            "731    organizing virtual talent show challenging tim...\n",
            "Name: Text, Length: 732, dtype: object\n"
          ]
        }
      ]
    },
    {
      "cell_type": "code",
      "source": [
        "print(len(dt), len(df))"
      ],
      "metadata": {
        "colab": {
          "base_uri": "https://localhost:8080/"
        },
        "id": "cUjWtmLBHdiO",
        "outputId": "c1a97c06-b0af-4501-d270-fbea5801c511"
      },
      "execution_count": 18,
      "outputs": [
        {
          "output_type": "stream",
          "name": "stdout",
          "text": [
            "732 732\n"
          ]
        }
      ]
    },
    {
      "cell_type": "code",
      "source": [
        "df['Text'] = dt.values  # Menambahkan kolom teks bersih ke df\n",
        "df = df[['Text', 'Sentiment']]  # Pilih hanya kolom yang dibutuhkan"
      ],
      "metadata": {
        "id": "AuYs8hxBJkZB"
      },
      "execution_count": 19,
      "outputs": []
    },
    {
      "cell_type": "code",
      "source": [
        "df"
      ],
      "metadata": {
        "colab": {
          "base_uri": "https://localhost:8080/",
          "height": 424
        },
        "id": "bAOvvP3dJtOa",
        "outputId": "eb4f0fe8-9908-415f-ac12-f491f3cfcb91"
      },
      "execution_count": 20,
      "outputs": [
        {
          "output_type": "execute_result",
          "data": {
            "text/plain": [
              "                                                  Text    Sentiment\n",
              "0                          enjoying beautiful day park   Positive  \n",
              "1                             traffic terrible morning   Negative  \n",
              "2                             finished amazing workout   Positive  \n",
              "3                     excited upcoming weekend getaway   Positive  \n",
              "4                     trying new recipe dinner tonight   Neutral   \n",
              "..                                                 ...          ...\n",
              "727  collaborating science project received recogni...       Happy \n",
              "728  attending surprise birthday party organized fr...       Happy \n",
              "729  successfully fundraising school charity initia...       Happy \n",
              "730  participating multicultural festival celebrati...       Happy \n",
              "731  organizing virtual talent show challenging tim...       Happy \n",
              "\n",
              "[732 rows x 2 columns]"
            ],
            "text/html": [
              "\n",
              "  <div id=\"df-9bd9c214-fc5b-4745-8e16-7ca28ae89821\" class=\"colab-df-container\">\n",
              "    <div>\n",
              "<style scoped>\n",
              "    .dataframe tbody tr th:only-of-type {\n",
              "        vertical-align: middle;\n",
              "    }\n",
              "\n",
              "    .dataframe tbody tr th {\n",
              "        vertical-align: top;\n",
              "    }\n",
              "\n",
              "    .dataframe thead th {\n",
              "        text-align: right;\n",
              "    }\n",
              "</style>\n",
              "<table border=\"1\" class=\"dataframe\">\n",
              "  <thead>\n",
              "    <tr style=\"text-align: right;\">\n",
              "      <th></th>\n",
              "      <th>Text</th>\n",
              "      <th>Sentiment</th>\n",
              "    </tr>\n",
              "  </thead>\n",
              "  <tbody>\n",
              "    <tr>\n",
              "      <th>0</th>\n",
              "      <td>enjoying beautiful day park</td>\n",
              "      <td>Positive</td>\n",
              "    </tr>\n",
              "    <tr>\n",
              "      <th>1</th>\n",
              "      <td>traffic terrible morning</td>\n",
              "      <td>Negative</td>\n",
              "    </tr>\n",
              "    <tr>\n",
              "      <th>2</th>\n",
              "      <td>finished amazing workout</td>\n",
              "      <td>Positive</td>\n",
              "    </tr>\n",
              "    <tr>\n",
              "      <th>3</th>\n",
              "      <td>excited upcoming weekend getaway</td>\n",
              "      <td>Positive</td>\n",
              "    </tr>\n",
              "    <tr>\n",
              "      <th>4</th>\n",
              "      <td>trying new recipe dinner tonight</td>\n",
              "      <td>Neutral</td>\n",
              "    </tr>\n",
              "    <tr>\n",
              "      <th>...</th>\n",
              "      <td>...</td>\n",
              "      <td>...</td>\n",
              "    </tr>\n",
              "    <tr>\n",
              "      <th>727</th>\n",
              "      <td>collaborating science project received recogni...</td>\n",
              "      <td>Happy</td>\n",
              "    </tr>\n",
              "    <tr>\n",
              "      <th>728</th>\n",
              "      <td>attending surprise birthday party organized fr...</td>\n",
              "      <td>Happy</td>\n",
              "    </tr>\n",
              "    <tr>\n",
              "      <th>729</th>\n",
              "      <td>successfully fundraising school charity initia...</td>\n",
              "      <td>Happy</td>\n",
              "    </tr>\n",
              "    <tr>\n",
              "      <th>730</th>\n",
              "      <td>participating multicultural festival celebrati...</td>\n",
              "      <td>Happy</td>\n",
              "    </tr>\n",
              "    <tr>\n",
              "      <th>731</th>\n",
              "      <td>organizing virtual talent show challenging tim...</td>\n",
              "      <td>Happy</td>\n",
              "    </tr>\n",
              "  </tbody>\n",
              "</table>\n",
              "<p>732 rows × 2 columns</p>\n",
              "</div>\n",
              "    <div class=\"colab-df-buttons\">\n",
              "\n",
              "  <div class=\"colab-df-container\">\n",
              "    <button class=\"colab-df-convert\" onclick=\"convertToInteractive('df-9bd9c214-fc5b-4745-8e16-7ca28ae89821')\"\n",
              "            title=\"Convert this dataframe to an interactive table.\"\n",
              "            style=\"display:none;\">\n",
              "\n",
              "  <svg xmlns=\"http://www.w3.org/2000/svg\" height=\"24px\" viewBox=\"0 -960 960 960\">\n",
              "    <path d=\"M120-120v-720h720v720H120Zm60-500h600v-160H180v160Zm220 220h160v-160H400v160Zm0 220h160v-160H400v160ZM180-400h160v-160H180v160Zm440 0h160v-160H620v160ZM180-180h160v-160H180v160Zm440 0h160v-160H620v160Z\"/>\n",
              "  </svg>\n",
              "    </button>\n",
              "\n",
              "  <style>\n",
              "    .colab-df-container {\n",
              "      display:flex;\n",
              "      gap: 12px;\n",
              "    }\n",
              "\n",
              "    .colab-df-convert {\n",
              "      background-color: #E8F0FE;\n",
              "      border: none;\n",
              "      border-radius: 50%;\n",
              "      cursor: pointer;\n",
              "      display: none;\n",
              "      fill: #1967D2;\n",
              "      height: 32px;\n",
              "      padding: 0 0 0 0;\n",
              "      width: 32px;\n",
              "    }\n",
              "\n",
              "    .colab-df-convert:hover {\n",
              "      background-color: #E2EBFA;\n",
              "      box-shadow: 0px 1px 2px rgba(60, 64, 67, 0.3), 0px 1px 3px 1px rgba(60, 64, 67, 0.15);\n",
              "      fill: #174EA6;\n",
              "    }\n",
              "\n",
              "    .colab-df-buttons div {\n",
              "      margin-bottom: 4px;\n",
              "    }\n",
              "\n",
              "    [theme=dark] .colab-df-convert {\n",
              "      background-color: #3B4455;\n",
              "      fill: #D2E3FC;\n",
              "    }\n",
              "\n",
              "    [theme=dark] .colab-df-convert:hover {\n",
              "      background-color: #434B5C;\n",
              "      box-shadow: 0px 1px 3px 1px rgba(0, 0, 0, 0.15);\n",
              "      filter: drop-shadow(0px 1px 2px rgba(0, 0, 0, 0.3));\n",
              "      fill: #FFFFFF;\n",
              "    }\n",
              "  </style>\n",
              "\n",
              "    <script>\n",
              "      const buttonEl =\n",
              "        document.querySelector('#df-9bd9c214-fc5b-4745-8e16-7ca28ae89821 button.colab-df-convert');\n",
              "      buttonEl.style.display =\n",
              "        google.colab.kernel.accessAllowed ? 'block' : 'none';\n",
              "\n",
              "      async function convertToInteractive(key) {\n",
              "        const element = document.querySelector('#df-9bd9c214-fc5b-4745-8e16-7ca28ae89821');\n",
              "        const dataTable =\n",
              "          await google.colab.kernel.invokeFunction('convertToInteractive',\n",
              "                                                    [key], {});\n",
              "        if (!dataTable) return;\n",
              "\n",
              "        const docLinkHtml = 'Like what you see? Visit the ' +\n",
              "          '<a target=\"_blank\" href=https://colab.research.google.com/notebooks/data_table.ipynb>data table notebook</a>'\n",
              "          + ' to learn more about interactive tables.';\n",
              "        element.innerHTML = '';\n",
              "        dataTable['output_type'] = 'display_data';\n",
              "        await google.colab.output.renderOutput(dataTable, element);\n",
              "        const docLink = document.createElement('div');\n",
              "        docLink.innerHTML = docLinkHtml;\n",
              "        element.appendChild(docLink);\n",
              "      }\n",
              "    </script>\n",
              "  </div>\n",
              "\n",
              "\n",
              "<div id=\"df-2bd9ca37-0331-4adf-bbf5-89852d19b461\">\n",
              "  <button class=\"colab-df-quickchart\" onclick=\"quickchart('df-2bd9ca37-0331-4adf-bbf5-89852d19b461')\"\n",
              "            title=\"Suggest charts\"\n",
              "            style=\"display:none;\">\n",
              "\n",
              "<svg xmlns=\"http://www.w3.org/2000/svg\" height=\"24px\"viewBox=\"0 0 24 24\"\n",
              "     width=\"24px\">\n",
              "    <g>\n",
              "        <path d=\"M19 3H5c-1.1 0-2 .9-2 2v14c0 1.1.9 2 2 2h14c1.1 0 2-.9 2-2V5c0-1.1-.9-2-2-2zM9 17H7v-7h2v7zm4 0h-2V7h2v10zm4 0h-2v-4h2v4z\"/>\n",
              "    </g>\n",
              "</svg>\n",
              "  </button>\n",
              "\n",
              "<style>\n",
              "  .colab-df-quickchart {\n",
              "      --bg-color: #E8F0FE;\n",
              "      --fill-color: #1967D2;\n",
              "      --hover-bg-color: #E2EBFA;\n",
              "      --hover-fill-color: #174EA6;\n",
              "      --disabled-fill-color: #AAA;\n",
              "      --disabled-bg-color: #DDD;\n",
              "  }\n",
              "\n",
              "  [theme=dark] .colab-df-quickchart {\n",
              "      --bg-color: #3B4455;\n",
              "      --fill-color: #D2E3FC;\n",
              "      --hover-bg-color: #434B5C;\n",
              "      --hover-fill-color: #FFFFFF;\n",
              "      --disabled-bg-color: #3B4455;\n",
              "      --disabled-fill-color: #666;\n",
              "  }\n",
              "\n",
              "  .colab-df-quickchart {\n",
              "    background-color: var(--bg-color);\n",
              "    border: none;\n",
              "    border-radius: 50%;\n",
              "    cursor: pointer;\n",
              "    display: none;\n",
              "    fill: var(--fill-color);\n",
              "    height: 32px;\n",
              "    padding: 0;\n",
              "    width: 32px;\n",
              "  }\n",
              "\n",
              "  .colab-df-quickchart:hover {\n",
              "    background-color: var(--hover-bg-color);\n",
              "    box-shadow: 0 1px 2px rgba(60, 64, 67, 0.3), 0 1px 3px 1px rgba(60, 64, 67, 0.15);\n",
              "    fill: var(--button-hover-fill-color);\n",
              "  }\n",
              "\n",
              "  .colab-df-quickchart-complete:disabled,\n",
              "  .colab-df-quickchart-complete:disabled:hover {\n",
              "    background-color: var(--disabled-bg-color);\n",
              "    fill: var(--disabled-fill-color);\n",
              "    box-shadow: none;\n",
              "  }\n",
              "\n",
              "  .colab-df-spinner {\n",
              "    border: 2px solid var(--fill-color);\n",
              "    border-color: transparent;\n",
              "    border-bottom-color: var(--fill-color);\n",
              "    animation:\n",
              "      spin 1s steps(1) infinite;\n",
              "  }\n",
              "\n",
              "  @keyframes spin {\n",
              "    0% {\n",
              "      border-color: transparent;\n",
              "      border-bottom-color: var(--fill-color);\n",
              "      border-left-color: var(--fill-color);\n",
              "    }\n",
              "    20% {\n",
              "      border-color: transparent;\n",
              "      border-left-color: var(--fill-color);\n",
              "      border-top-color: var(--fill-color);\n",
              "    }\n",
              "    30% {\n",
              "      border-color: transparent;\n",
              "      border-left-color: var(--fill-color);\n",
              "      border-top-color: var(--fill-color);\n",
              "      border-right-color: var(--fill-color);\n",
              "    }\n",
              "    40% {\n",
              "      border-color: transparent;\n",
              "      border-right-color: var(--fill-color);\n",
              "      border-top-color: var(--fill-color);\n",
              "    }\n",
              "    60% {\n",
              "      border-color: transparent;\n",
              "      border-right-color: var(--fill-color);\n",
              "    }\n",
              "    80% {\n",
              "      border-color: transparent;\n",
              "      border-right-color: var(--fill-color);\n",
              "      border-bottom-color: var(--fill-color);\n",
              "    }\n",
              "    90% {\n",
              "      border-color: transparent;\n",
              "      border-bottom-color: var(--fill-color);\n",
              "    }\n",
              "  }\n",
              "</style>\n",
              "\n",
              "  <script>\n",
              "    async function quickchart(key) {\n",
              "      const quickchartButtonEl =\n",
              "        document.querySelector('#' + key + ' button');\n",
              "      quickchartButtonEl.disabled = true;  // To prevent multiple clicks.\n",
              "      quickchartButtonEl.classList.add('colab-df-spinner');\n",
              "      try {\n",
              "        const charts = await google.colab.kernel.invokeFunction(\n",
              "            'suggestCharts', [key], {});\n",
              "      } catch (error) {\n",
              "        console.error('Error during call to suggestCharts:', error);\n",
              "      }\n",
              "      quickchartButtonEl.classList.remove('colab-df-spinner');\n",
              "      quickchartButtonEl.classList.add('colab-df-quickchart-complete');\n",
              "    }\n",
              "    (() => {\n",
              "      let quickchartButtonEl =\n",
              "        document.querySelector('#df-2bd9ca37-0331-4adf-bbf5-89852d19b461 button');\n",
              "      quickchartButtonEl.style.display =\n",
              "        google.colab.kernel.accessAllowed ? 'block' : 'none';\n",
              "    })();\n",
              "  </script>\n",
              "</div>\n",
              "\n",
              "  <div id=\"id_b74ac1ec-4e0b-4b7a-a001-bcab741f392a\">\n",
              "    <style>\n",
              "      .colab-df-generate {\n",
              "        background-color: #E8F0FE;\n",
              "        border: none;\n",
              "        border-radius: 50%;\n",
              "        cursor: pointer;\n",
              "        display: none;\n",
              "        fill: #1967D2;\n",
              "        height: 32px;\n",
              "        padding: 0 0 0 0;\n",
              "        width: 32px;\n",
              "      }\n",
              "\n",
              "      .colab-df-generate:hover {\n",
              "        background-color: #E2EBFA;\n",
              "        box-shadow: 0px 1px 2px rgba(60, 64, 67, 0.3), 0px 1px 3px 1px rgba(60, 64, 67, 0.15);\n",
              "        fill: #174EA6;\n",
              "      }\n",
              "\n",
              "      [theme=dark] .colab-df-generate {\n",
              "        background-color: #3B4455;\n",
              "        fill: #D2E3FC;\n",
              "      }\n",
              "\n",
              "      [theme=dark] .colab-df-generate:hover {\n",
              "        background-color: #434B5C;\n",
              "        box-shadow: 0px 1px 3px 1px rgba(0, 0, 0, 0.15);\n",
              "        filter: drop-shadow(0px 1px 2px rgba(0, 0, 0, 0.3));\n",
              "        fill: #FFFFFF;\n",
              "      }\n",
              "    </style>\n",
              "    <button class=\"colab-df-generate\" onclick=\"generateWithVariable('df')\"\n",
              "            title=\"Generate code using this dataframe.\"\n",
              "            style=\"display:none;\">\n",
              "\n",
              "  <svg xmlns=\"http://www.w3.org/2000/svg\" height=\"24px\"viewBox=\"0 0 24 24\"\n",
              "       width=\"24px\">\n",
              "    <path d=\"M7,19H8.4L18.45,9,17,7.55,7,17.6ZM5,21V16.75L18.45,3.32a2,2,0,0,1,2.83,0l1.4,1.43a1.91,1.91,0,0,1,.58,1.4,1.91,1.91,0,0,1-.58,1.4L9.25,21ZM18.45,9,17,7.55Zm-12,3A5.31,5.31,0,0,0,4.9,8.1,5.31,5.31,0,0,0,1,6.5,5.31,5.31,0,0,0,4.9,4.9,5.31,5.31,0,0,0,6.5,1,5.31,5.31,0,0,0,8.1,4.9,5.31,5.31,0,0,0,12,6.5,5.46,5.46,0,0,0,6.5,12Z\"/>\n",
              "  </svg>\n",
              "    </button>\n",
              "    <script>\n",
              "      (() => {\n",
              "      const buttonEl =\n",
              "        document.querySelector('#id_b74ac1ec-4e0b-4b7a-a001-bcab741f392a button.colab-df-generate');\n",
              "      buttonEl.style.display =\n",
              "        google.colab.kernel.accessAllowed ? 'block' : 'none';\n",
              "\n",
              "      buttonEl.onclick = () => {\n",
              "        google.colab.notebook.generateWithVariable('df');\n",
              "      }\n",
              "      })();\n",
              "    </script>\n",
              "  </div>\n",
              "\n",
              "    </div>\n",
              "  </div>\n"
            ],
            "application/vnd.google.colaboratory.intrinsic+json": {
              "type": "dataframe",
              "variable_name": "df",
              "summary": "{\n  \"name\": \"df\",\n  \"rows\": 732,\n  \"fields\": [\n    {\n      \"column\": \"Text\",\n      \"properties\": {\n        \"dtype\": \"string\",\n        \"num_unique_values\": 706,\n        \"samples\": [\n          \"walking great wall china step testament ancient engineering marvel\",\n          \"laughter key joyattending standup comedy show\",\n          \"fear unknown keeping night\"\n        ],\n        \"semantic_type\": \"\",\n        \"description\": \"\"\n      }\n    },\n    {\n      \"column\": \"Sentiment\",\n      \"properties\": {\n        \"dtype\": \"category\",\n        \"num_unique_values\": 279,\n        \"samples\": [\n          \" Elation       \",\n          \" Confidence    \",\n          \" Loss \"\n        ],\n        \"semantic_type\": \"\",\n        \"description\": \"\"\n      }\n    }\n  ]\n}"
            }
          },
          "metadata": {},
          "execution_count": 20
        }
      ]
    },
    {
      "cell_type": "code",
      "source": [
        "print(df[\"Sentiment\"].value_counts())"
      ],
      "metadata": {
        "colab": {
          "base_uri": "https://localhost:8080/"
        },
        "id": "9KeOFQLdKba9",
        "outputId": "7ea046ac-665f-4d49-8de8-3515bcb4a14f"
      },
      "execution_count": 21,
      "outputs": [
        {
          "output_type": "stream",
          "name": "stdout",
          "text": [
            "Sentiment\n",
            "Positive               44\n",
            "Joy                    42\n",
            "Excitement             32\n",
            "Happy                  14\n",
            "Neutral                14\n",
            "                       ..\n",
            "Vibrancy                1\n",
            "Culinary Adventure      1\n",
            "Mesmerizing             1\n",
            "Thrilling Journey       1\n",
            "Winter Magic            1\n",
            "Name: count, Length: 279, dtype: int64\n"
          ]
        }
      ]
    },
    {
      "cell_type": "code",
      "source": [
        "print(df[\"Sentiment\"].unique())  # Lihat kategori sentimen yang ada"
      ],
      "metadata": {
        "colab": {
          "base_uri": "https://localhost:8080/"
        },
        "id": "o3S7Ho9wL5Hb",
        "outputId": "6c84b3fd-a99d-4800-8eb7-d65f8f5a62f3"
      },
      "execution_count": 22,
      "outputs": [
        {
          "output_type": "stream",
          "name": "stdout",
          "text": [
            "[' Positive  ' ' Negative  ' ' Neutral   ' ' Anger        '\n",
            " ' Fear         ' ' Sadness      ' ' Disgust      ' ' Happiness    '\n",
            " ' Joy          ' ' Love         ' ' Amusement    ' ' Enjoyment    '\n",
            " ' Admiration   ' ' Affection    ' ' Awe          ' ' Disappointed '\n",
            " ' Surprise     ' ' Acceptance   ' ' Adoration    ' ' Anticipation '\n",
            " ' Bitter       ' ' Calmness     ' ' Confusion    ' ' Excitement   '\n",
            " ' Kind         ' ' Pride        ' ' Shame        ' ' Confusion '\n",
            " ' Excitement ' ' Shame ' ' Elation       ' ' Euphoria      '\n",
            " ' Contentment   ' ' Serenity      ' ' Gratitude     ' ' Hope          '\n",
            " ' Empowerment   ' ' Compassion    ' ' Tenderness    ' ' Arousal       '\n",
            " ' Enthusiasm    ' ' Fulfillment  ' ' Reverence     ' ' Compassion'\n",
            " ' Fulfillment   ' ' Reverence ' ' Elation   ' ' Despair         '\n",
            " ' Grief           ' ' Loneliness      ' ' Jealousy        '\n",
            " ' Resentment      ' ' Frustration     ' ' Boredom         '\n",
            " ' Anxiety         ' ' Intimidation    ' ' Helplessness    '\n",
            " ' Envy            ' ' Regret         ' ' Disgust         '\n",
            " ' Despair      ' ' Loneliness ' ' Frustration ' ' Anxiety   '\n",
            " ' Intimidation ' ' Helplessness ' ' Jealousy    ' ' Curiosity       '\n",
            " ' Indifference    ' ' Confusion       ' ' Numbness        '\n",
            " ' Melancholy      ' ' Nostalgia       ' ' Ambivalence     '\n",
            " ' Acceptance      ' ' Determination   ' ' Serenity        ' ' Numbness '\n",
            " ' Zest ' ' Contentment ' ' Hopeful ' ' Proud ' ' Grateful '\n",
            " ' Empathetic ' ' Compassionate ' ' Playful ' ' Free-spirited '\n",
            " ' Inspired ' ' Confident ' ' Serenity ' ' Curiosity ' ' Ambivalence '\n",
            " ' Despair ' ' Bitterness ' ' Yearning ' ' Fearful ' ' Apprehensive '\n",
            " ' Overwhelmed ' ' Jealous ' ' Devastated ' ' Frustrated ' ' Envious '\n",
            " ' Dismissive ' ' Awe           ' ' Determination ' ' Nostalgia      '\n",
            " ' Thrill        ' ' Calmness      ' ' Overwhelmed   ' ' Gratitude   '\n",
            " ' Bittersweet ' ' Curiosity     ' ' Admiration    ' ' Overjoyed     '\n",
            " ' Inspiration   ' ' Motivation    ' ' Amusement     ' ' Contemplation '\n",
            " ' JoyfulReunion ' ' Excitement    ' ' Satisfaction  ' ' Blessed       '\n",
            " ' Anticipation  ' ' Reflection    ' ' Nostalgia     ' ' Appreciation  '\n",
            " ' Confidence    ' ' Surprise      ' ' Accomplishment ' ' Wonderment    '\n",
            " ' Optimism      ' ' Pride         ' ' Happiness     ' ' Curiosity   '\n",
            " ' Enchantment   ' ' Intrigue      ' ' PlayfulJoy    ' ' Mindfulness   '\n",
            " ' DreamChaser   ' ' Elegance ' ' Whimsy        ' ' Pensive '\n",
            " ' Thrill      ' ' Harmony    ' ' Creativity   ' ' Radiance    '\n",
            " ' Wonder     ' ' Rejuvenation ' ' Inspiration ' ' Coziness     '\n",
            " ' Gratitude  ' ' Adventure ' ' Euphoria   ' ' Awe    ' ' Melodic       '\n",
            " ' FestiveJoy    ' ' InnerJourney  ' ' Freedom       ' ' Dazzle        '\n",
            " ' Adrenaline     ' ' Harmony       ' ' ArtisticBurst ' ' Radiance      '\n",
            " ' Wonder       ' ' Inspiration  ' ' CulinaryOdyssey ' ' Euphoria     '\n",
            " ' Curiosity  ' ' Resilience   ' ' Immersion ' ' Nostalgia '\n",
            " ' Spark        ' ' Gratitude    ' ' Marvel       ' ' Serenity   '\n",
            " ' Heartbreak    ' ' Loneliness    ' ' Grief      ' ' Despair   '\n",
            " ' Betrayal      ' ' Suffering ' ' EmotionalStorm ' ' Regret        '\n",
            " ' Isolation ' ' Disappointment ' ' LostLove ' ' Melancholy '\n",
            " ' Exhaustion ' ' Sorrow      ' ' Darkness     ' ' Desperation '\n",
            " ' Ruins      ' ' Desolation ' ' Regret ' ' Grief ' ' Heartbreak '\n",
            " ' Betrayal ' ' Resilience ' ' Sorrow ' ' Loss ' ' Heartache '\n",
            " ' Solitude ' ' Joy ' ' Happiness ' ' Enthusiasm ' ' Gratitude '\n",
            " ' Positivity ' ' Kindness ' ' Friendship ' ' Love ' ' Surprise '\n",
            " ' Success ' ' Thrill ' ' Reflection ' ' Enchantment ' ' Exploration '\n",
            " ' Awe ' ' Amazement ' ' Romance ' ' Captivation ' ' Wonder '\n",
            " ' Tranquility ' ' Grandeur ' ' Emotion ' ' Energy ' ' Celebration '\n",
            " ' Charm ' ' Ecstasy ' ' Hope ' ' Creativity ' ' Colorful ' ' Pride '\n",
            " ' Hypnotic ' ' Connection ' ' Iconic ' ' Euphoria ' ' Journey '\n",
            " ' Engagement ' ' Touched ' ' Suspense ' ' Satisfaction ' ' Admiration '\n",
            " ' Triumph ' ' Heartwarming ' ' Obstacle ' ' Sympathy ' ' Pressure '\n",
            " ' Renewed Effort ' ' Miscalculation ' ' Challenge ' ' Solace '\n",
            " ' Breakthrough ' ' Harmony ' ' Joy in Baking ' ' Envisioning History '\n",
            " ' Imagination ' ' Vibrancy ' ' Mesmerizing ' ' Culinary Adventure '\n",
            " ' Winter Magic ' ' Thrilling Journey ' \" Nature's Beauty \"\n",
            " ' Celestial Wonder ' ' Creative Inspiration ' ' Runway Creativity '\n",
            " \" Ocean's Freedom \" ' Whispers of the Past ' ' Boredom ' ' Indifference '\n",
            " ' Disgust ' ' Relief ' ' Positive ' ' Embarrassed ' ' Mischievous '\n",
            " ' Sad ' ' Hate ' ' Bad ' ' Neutral ' ' Happy ']\n"
          ]
        }
      ]
    },
    {
      "cell_type": "code",
      "source": [
        "df.loc[:, \"Sentiment\"] = df[\"Sentiment\"].str.strip().str.title()"
      ],
      "metadata": {
        "id": "-dP9DoOwMEVG"
      },
      "execution_count": 23,
      "outputs": []
    },
    {
      "cell_type": "code",
      "source": [
        "import pandas as pd\n",
        "\n",
        "# Daftar sentimen berdasarkan kategori\n",
        "positive_sentiments = {\"Positive\", \"Happiness\", \"Joy\", \"Love\", \"Excitement\", \"Hope\", \"Admiration\", \"Pride\", \"Gratitude\", \"Euphoria\", \"Optimism\", \"Satisfaction\", \"Enchantment\", \"Serenity\", \"Amusement\"}\n",
        "negative_sentiments = {\"Negative\", \"Anger\", \"Fear\", \"Sadness\", \"Disgust\", \"Disappointed\", \"Despair\", \"Grief\", \"Loneliness\", \"Jealousy\", \"Resentment\", \"Frustration\", \"Boredom\", \"Anxiety\", \"Regret\", \"Betrayal\", \"Sorrow\", \"Hate\"}\n",
        "neutral_sentiments = {\"Neutral\", \"Indifference\", \"Confusion\", \"Ambivalence\", \"Reflection\", \"Calmness\", \"Acceptance\"}\n",
        "\n",
        "def categorize_sentiment(sentiment):\n",
        "    sentiment = sentiment.strip()  # Hapus spasi berlebih\n",
        "    if sentiment in positive_sentiments:\n",
        "        return \"Positive\"\n",
        "    elif sentiment in negative_sentiments:\n",
        "        return \"Negative\"\n",
        "    else:\n",
        "        return \"Neutral\"\n",
        "\n",
        "df.loc[:, \"Sentiment\"] = df[\"Sentiment\"].apply(categorize_sentiment)\n",
        "\n",
        "# Cek hasilnya\n",
        "print(df[\"Sentiment\"].unique())"
      ],
      "metadata": {
        "id": "Y-q-9VK0Lixw",
        "colab": {
          "base_uri": "https://localhost:8080/"
        },
        "outputId": "bd96e1c9-3877-41fd-f5ac-3e3359d38d68"
      },
      "execution_count": 24,
      "outputs": [
        {
          "output_type": "stream",
          "name": "stdout",
          "text": [
            "['Positive' 'Negative' 'Neutral']\n"
          ]
        }
      ]
    },
    {
      "cell_type": "code",
      "source": [
        "df[\"Sentiment\"].value_counts()"
      ],
      "metadata": {
        "colab": {
          "base_uri": "https://localhost:8080/",
          "height": 210
        },
        "id": "DFW_6W0ALmo6",
        "outputId": "af3fa957-9b5f-4ad0-c41d-0bd983aa94b9"
      },
      "execution_count": 25,
      "outputs": [
        {
          "output_type": "execute_result",
          "data": {
            "text/plain": [
              "Sentiment\n",
              "Neutral     448\n",
              "Positive    201\n",
              "Negative     83\n",
              "Name: count, dtype: int64"
            ],
            "text/html": [
              "<div>\n",
              "<style scoped>\n",
              "    .dataframe tbody tr th:only-of-type {\n",
              "        vertical-align: middle;\n",
              "    }\n",
              "\n",
              "    .dataframe tbody tr th {\n",
              "        vertical-align: top;\n",
              "    }\n",
              "\n",
              "    .dataframe thead th {\n",
              "        text-align: right;\n",
              "    }\n",
              "</style>\n",
              "<table border=\"1\" class=\"dataframe\">\n",
              "  <thead>\n",
              "    <tr style=\"text-align: right;\">\n",
              "      <th></th>\n",
              "      <th>count</th>\n",
              "    </tr>\n",
              "    <tr>\n",
              "      <th>Sentiment</th>\n",
              "      <th></th>\n",
              "    </tr>\n",
              "  </thead>\n",
              "  <tbody>\n",
              "    <tr>\n",
              "      <th>Neutral</th>\n",
              "      <td>448</td>\n",
              "    </tr>\n",
              "    <tr>\n",
              "      <th>Positive</th>\n",
              "      <td>201</td>\n",
              "    </tr>\n",
              "    <tr>\n",
              "      <th>Negative</th>\n",
              "      <td>83</td>\n",
              "    </tr>\n",
              "  </tbody>\n",
              "</table>\n",
              "</div><br><label><b>dtype:</b> int64</label>"
            ]
          },
          "metadata": {},
          "execution_count": 25
        }
      ]
    },
    {
      "cell_type": "code",
      "source": [
        "from sklearn.preprocessing import LabelEncoder\n",
        "\n",
        "df = df.copy()\n",
        "df['Sentiment'] = LabelEncoder().fit_transform(df['Sentiment']).astype(int)\n",
        "print(df.dtypes)"
      ],
      "metadata": {
        "id": "Y52zN-ZCOmV9",
        "colab": {
          "base_uri": "https://localhost:8080/"
        },
        "outputId": "c262cc05-0cb7-4682-b584-222740719417"
      },
      "execution_count": 26,
      "outputs": [
        {
          "output_type": "stream",
          "name": "stdout",
          "text": [
            "Text         object\n",
            "Sentiment     int64\n",
            "dtype: object\n"
          ]
        }
      ]
    },
    {
      "cell_type": "code",
      "source": [
        "df.info()"
      ],
      "metadata": {
        "colab": {
          "base_uri": "https://localhost:8080/"
        },
        "id": "bs-QrSbDEvqg",
        "outputId": "900204fd-1f03-4da7-e73e-f3af8a6fb078"
      },
      "execution_count": 27,
      "outputs": [
        {
          "output_type": "stream",
          "name": "stdout",
          "text": [
            "<class 'pandas.core.frame.DataFrame'>\n",
            "RangeIndex: 732 entries, 0 to 731\n",
            "Data columns (total 2 columns):\n",
            " #   Column     Non-Null Count  Dtype \n",
            "---  ------     --------------  ----- \n",
            " 0   Text       732 non-null    object\n",
            " 1   Sentiment  732 non-null    int64 \n",
            "dtypes: int64(1), object(1)\n",
            "memory usage: 11.6+ KB\n"
          ]
        }
      ]
    },
    {
      "cell_type": "markdown",
      "source": [
        "# **Pemodelan**"
      ],
      "metadata": {
        "id": "zSD3qrRJL0gl"
      }
    },
    {
      "cell_type": "markdown",
      "source": [
        "## **Logistic Regression**"
      ],
      "metadata": {
        "id": "HPzbvZMH_JHs"
      }
    },
    {
      "cell_type": "code",
      "source": [
        "from sklearn.feature_extraction.text import TfidfVectorizer\n",
        "from sklearn.model_selection import train_test_split\n",
        "from imblearn.over_sampling import SMOTE\n",
        "from collections import Counter\n",
        "from sklearn.linear_model import LogisticRegression\n",
        "from sklearn.metrics import classification_report\n",
        "\n",
        "# Konversi teks ke fitur numerik dengan TF-IDF (pakai bigram)\n",
        "vectorizer = TfidfVectorizer(max_features=5000, ngram_range=(1,2), stop_words='english')\n",
        "x = vectorizer.fit_transform(df['Text'])\n",
        "y = df['Sentiment'].astype(int)\n",
        "\n",
        "# Split sebelum SMOTE\n",
        "x_train, x_test, y_train, y_test = train_test_split(x, y, test_size=0.2, stratify=y, random_state=42)\n",
        "\n",
        "# Cek distribusi sebelum SMOTE\n",
        "print(\"Distribusi sebelum SMOTE:\", Counter(y_train))\n",
        "\n",
        "# Terapkan SMOTE hanya di training set\n",
        "smote = SMOTE(random_state=42)\n",
        "x_train_resampled, y_train_resampled = smote.fit_resample(x_train, y_train)\n",
        "\n",
        "# Cek distribusi setelah SMOTE\n",
        "print(\"Distribusi setelah SMOTE:\", Counter(y_train_resampled))\n",
        "\n",
        "# Gunakan Logistic Regression dengan class balancing\n",
        "model = LogisticRegression(class_weight='balanced', random_state=42)\n",
        "model.fit(x_train_resampled, y_train_resampled)  # Gunakan data hasil SMOTE\n",
        "\n",
        "# Prediksi\n",
        "y_pred = model.predict(x_test)\n",
        "\n",
        "# Evaluasi\n",
        "print(classification_report(y_test, y_pred))"
      ],
      "metadata": {
        "colab": {
          "base_uri": "https://localhost:8080/"
        },
        "id": "lkGhbDZJJ6lU",
        "outputId": "f2ef438a-d992-46f8-8402-21f166e55459"
      },
      "execution_count": 28,
      "outputs": [
        {
          "output_type": "stream",
          "name": "stdout",
          "text": [
            "Distribusi sebelum SMOTE: Counter({1: 358, 2: 161, 0: 66})\n",
            "Distribusi setelah SMOTE: Counter({0: 358, 1: 358, 2: 358})\n",
            "              precision    recall  f1-score   support\n",
            "\n",
            "           0       0.50      0.24      0.32        17\n",
            "           1       0.69      0.86      0.77        90\n",
            "           2       0.64      0.45      0.53        40\n",
            "\n",
            "    accuracy                           0.67       147\n",
            "   macro avg       0.61      0.51      0.54       147\n",
            "weighted avg       0.66      0.67      0.65       147\n",
            "\n"
          ]
        }
      ]
    },
    {
      "cell_type": "markdown",
      "source": [
        "## **Random Forest**"
      ],
      "metadata": {
        "id": "8of99P7PLqfG"
      }
    },
    {
      "cell_type": "code",
      "source": [
        "from sklearn.ensemble import RandomForestClassifier\n",
        "\n",
        "rf_model = RandomForestClassifier(n_estimators=200, class_weight='balanced', random_state=42)\n",
        "rf_model.fit(x_train_resampled, y_train_resampled)\n",
        "\n",
        "y_pred_rf = rf_model.predict(x_test)\n",
        "\n",
        "print(classification_report(y_test, y_pred_rf))"
      ],
      "metadata": {
        "colab": {
          "base_uri": "https://localhost:8080/"
        },
        "id": "hd6aquvu_QkC",
        "outputId": "45f18a8f-3c98-4238-9740-42b7f4849f8e"
      },
      "execution_count": 29,
      "outputs": [
        {
          "output_type": "stream",
          "name": "stdout",
          "text": [
            "              precision    recall  f1-score   support\n",
            "\n",
            "           0       0.33      0.12      0.17        17\n",
            "           1       0.65      0.88      0.75        90\n",
            "           2       0.63      0.30      0.41        40\n",
            "\n",
            "    accuracy                           0.63       147\n",
            "   macro avg       0.54      0.43      0.44       147\n",
            "weighted avg       0.61      0.63      0.59       147\n",
            "\n"
          ]
        }
      ]
    },
    {
      "cell_type": "markdown",
      "source": [
        "## **XGBoost**"
      ],
      "metadata": {
        "id": "g-XwqynDLt49"
      }
    },
    {
      "cell_type": "code",
      "source": [
        "import xgboost as xgb\n",
        "\n",
        "xgb_model = xgb.XGBClassifier(n_estimators=200, objective='multi:softmax', num_class=3, random_state=42)\n",
        "xgb_model.fit(x_train_resampled, y_train_resampled)\n",
        "\n",
        "y_pred_xgb = xgb_model.predict(x_test)\n",
        "\n",
        "print(classification_report(y_test, y_pred_xgb))"
      ],
      "metadata": {
        "colab": {
          "base_uri": "https://localhost:8080/"
        },
        "id": "32Mg8QRgIS9_",
        "outputId": "670604f1-9e42-45c9-9ac2-1d3638e98a77"
      },
      "execution_count": 30,
      "outputs": [
        {
          "output_type": "stream",
          "name": "stdout",
          "text": [
            "              precision    recall  f1-score   support\n",
            "\n",
            "           0       0.62      0.47      0.53        17\n",
            "           1       0.73      0.79      0.76        90\n",
            "           2       0.59      0.55      0.57        40\n",
            "\n",
            "    accuracy                           0.69       147\n",
            "   macro avg       0.65      0.60      0.62       147\n",
            "weighted avg       0.68      0.69      0.68       147\n",
            "\n"
          ]
        }
      ]
    }
  ]
}